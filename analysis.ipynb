{
 "cells": [
  {
   "cell_type": "markdown",
   "metadata": {},
   "source": [
    "# Capstone Project Submission\n",
    "\n",
    "- Student name: Bronwen Cohn-Cort\n",
    "- Student pace: self-paced\n",
    "- Scheduled project review date/time: July 27, 2020\n",
    "- Instructor name: Jeff Herman\n",
    "- Blog post URL: https://bronwencc.github.io/pandas_dataframe_quick-start_guide_python"
   ]
  },
  {
   "cell_type": "markdown",
   "metadata": {},
   "source": [
    "## Abstract\n",
    "The problem was to see whether the text of abstracts authored by Nobel Prize winners that were highly cited was different from the text of abstracts from highly-cited publications authored by scientists who were listed as an author on one of the Nobel Prize winners' highly-cited publications.  The publications were from Google Scholar and the information about the Nobel Prize winners was from the Nobel Prize website.  Publications may be books as well as journal articles, and abstract text was assumed to be in English, although there is at least one suspected instance of French.\n",
    "\n",
    "Then, the publications that had abstract text (a non-null `bib_abstract`) were put into one dataframe and the text was stripped of punctuation, tokenized and lemmatized with `nltk`.  After that, I found frequency distributions and subsequently TF-IDF (term frequency - inverse document frequency) values for each word (or name or number) in all the abstracts for each abstract.  These values were reduced to two dimensions with `sklearn`'s `TSNE` and plotted with varying color codes: author name, field of study (as related to the field in which the connected Nobel Prize was won), and whether the author of the publication was a Nobel Prize winner.\n",
    "\n",
    "Finally, the TF-IDF values were put through Sequential models to get predictions for field of study (4 possibilities): 17% accuracy and for coauthor (Nobel Prize winner or not): 43% accuracy.  A t-test found the average TF-IDF values to be significantly different between abstracts from a non-Prize winner's author page and those from a Prize-winner's author page."
   ]
  },
  {
   "cell_type": "markdown",
   "metadata": {},
   "source": [
    "### Import Statements"
   ]
  },
  {
   "cell_type": "code",
   "execution_count": 1,
   "metadata": {},
   "outputs": [],
   "source": [
    "import pandas as pd\n",
    "import numpy as np"
   ]
  },
  {
   "cell_type": "code",
   "execution_count": 2,
   "metadata": {},
   "outputs": [],
   "source": [
    "from keras.layers import Input, Dense, LSTM, Embedding\n",
    "from keras.layers import Dropout, Activation, Bidirectional, GlobalMaxPool1D\n",
    "from keras.models import Sequential\n",
    "from keras import initializers, regularizers, constraints, optimizers, layers\n",
    "from keras.preprocessing import sequence"
   ]
  },
  {
   "cell_type": "code",
   "execution_count": 169,
   "metadata": {},
   "outputs": [],
   "source": [
    "from sklearn.manifold import TSNE\n",
    "from sklearn.model_selection import train_test_split"
   ]
  },
  {
   "cell_type": "code",
   "execution_count": 220,
   "metadata": {},
   "outputs": [],
   "source": [
    "from scipy import stats"
   ]
  },
  {
   "cell_type": "code",
   "execution_count": 3,
   "metadata": {},
   "outputs": [],
   "source": [
    "import matplotlib.pyplot as plt\n",
    "%matplotlib inline\n",
    "plt.style.use(\"seaborn\")"
   ]
  },
  {
   "cell_type": "code",
   "execution_count": 4,
   "metadata": {},
   "outputs": [],
   "source": [
    "from nltk.tokenize import word_tokenize\n",
    "from nltk import FreqDist\n",
    "from nltk.corpus import stopwords\n",
    "import string"
   ]
  },
  {
   "cell_type": "code",
   "execution_count": 5,
   "metadata": {},
   "outputs": [],
   "source": [
    "#use WordNet database to reduce words to roots (lemmatize)\n",
    "from nltk.stem.wordnet import WordNetLemmatizer\n",
    "lemmatizer = WordNetLemmatizer()"
   ]
  },
  {
   "cell_type": "code",
   "execution_count": 4,
   "metadata": {},
   "outputs": [
    {
     "name": "stderr",
     "output_type": "stream",
     "text": [
      "[nltk_data] Downloading package punkt to\n",
      "[nltk_data]     C:\\Users\\Bronwen\\AppData\\Roaming\\nltk_data...\n",
      "[nltk_data]   Package punkt is already up-to-date!\n"
     ]
    },
    {
     "data": {
      "text/plain": [
       "True"
      ]
     },
     "execution_count": 4,
     "metadata": {},
     "output_type": "execute_result"
    }
   ],
   "source": [
    "import nltk\n",
    "nltk.download(\"punkt\") #download Punkt sentence tokenizer"
   ]
  },
  {
   "cell_type": "code",
   "execution_count": 5,
   "metadata": {},
   "outputs": [
    {
     "name": "stderr",
     "output_type": "stream",
     "text": [
      "[nltk_data] Downloading package wordnet to\n",
      "[nltk_data]     C:\\Users\\Bronwen\\AppData\\Roaming\\nltk_data...\n",
      "[nltk_data]   Package wordnet is already up-to-date!\n"
     ]
    },
    {
     "data": {
      "text/plain": [
       "True"
      ]
     },
     "execution_count": 5,
     "metadata": {},
     "output_type": "execute_result"
    }
   ],
   "source": [
    "import nltk\n",
    "nltk.download('wordnet') #download wordnet for WordNetLemmatizer"
   ]
  },
  {
   "cell_type": "code",
   "execution_count": 167,
   "metadata": {},
   "outputs": [],
   "source": [
    "np.random.seed(321)"
   ]
  },
  {
   "cell_type": "markdown",
   "metadata": {},
   "source": [
    "# Obtain\n",
    "The bulk of obtaining is in the obtain.ipynb notebook, where it retrieved and parsed results through my modified `scholarly` package.\n",
    "This section reads in the .CSV files that were created by putting together information from `newscholarly` search results for filled publication information.  It also creates new dataframe with additional informative columns consisting of those records that have abstract text (where `bib_abstract` is not null)."
   ]
  },
  {
   "cell_type": "code",
   "execution_count": 19,
   "metadata": {
    "scrolled": true
   },
   "outputs": [
    {
     "name": "stdout",
     "output_type": "stream",
     "text": [
      "<class 'pandas.core.frame.DataFrame'>\n",
      "RangeIndex: 70 entries, 0 to 69\n",
      "Data columns (total 23 columns):\n",
      "bib_eprint         26 non-null object\n",
      "bib_cites          70 non-null int64\n",
      "citations_link     70 non-null object\n",
      "url_scholarbib     0 non-null float64\n",
      "url_add_sclib      0 non-null float64\n",
      "bib_abstract       44 non-null object\n",
      "bib_author_list    0 non-null float64\n",
      "bib_venue          0 non-null float64\n",
      "bib_year           70 non-null int64\n",
      "bib_gsrank         0 non-null float64\n",
      "bib_title          70 non-null object\n",
      "bib_url            44 non-null object\n",
      "bib_author         70 non-null object\n",
      "bib_listauthors    70 non-null object\n",
      "bib_journal        56 non-null object\n",
      "bib_volume         60 non-null float64\n",
      "bib_number         60 non-null float64\n",
      "bib_publisher      64 non-null object\n",
      "bib_pages          59 non-null object\n",
      "source             70 non-null object\n",
      "id_citations       70 non-null object\n",
      "cites_per_year     70 non-null object\n",
      "fileID             70 non-null object\n",
      "dtypes: float64(7), int64(2), object(14)\n",
      "memory usage: 12.7+ KB\n"
     ]
    }
   ],
   "source": [
    "#all filled publications that were first five results for Nobel Prize winners\n",
    "publidf = pd.read_csv(\"csvdata\\publications.csv\",index_col=[0])\n",
    "publidf.reset_index(drop=True, inplace=True)\n",
    "publidf.info()"
   ]
  },
  {
   "cell_type": "code",
   "execution_count": 20,
   "metadata": {
    "scrolled": true
   },
   "outputs": [
    {
     "name": "stdout",
     "output_type": "stream",
     "text": [
      "<class 'pandas.core.frame.DataFrame'>\n",
      "RangeIndex: 75 entries, 0 to 74\n",
      "Data columns (total 23 columns):\n",
      "bib_eprint         38 non-null object\n",
      "bib_cites          75 non-null int64\n",
      "citations_link     75 non-null object\n",
      "url_scholarbib     0 non-null float64\n",
      "url_add_sclib      0 non-null float64\n",
      "bib_abstract       44 non-null object\n",
      "bib_author_list    0 non-null float64\n",
      "bib_venue          0 non-null float64\n",
      "bib_year           75 non-null int64\n",
      "bib_gsrank         0 non-null float64\n",
      "bib_title          75 non-null object\n",
      "bib_url            44 non-null object\n",
      "bib_author         75 non-null object\n",
      "bib_listauthors    75 non-null object\n",
      "bib_journal        64 non-null object\n",
      "bib_volume         65 non-null float64\n",
      "bib_number         60 non-null object\n",
      "bib_publisher      61 non-null object\n",
      "bib_pages          69 non-null object\n",
      "source             75 non-null object\n",
      "id_citations       75 non-null object\n",
      "cites_per_year     75 non-null object\n",
      "fileID             75 non-null object\n",
      "dtypes: float64(6), int64(2), object(15)\n",
      "memory usage: 13.6+ KB\n"
     ]
    }
   ],
   "source": [
    "#all first five filled publications for at most three authors that were first \n",
    "#listed on first five results for Nobel Prize winners\n",
    "coapublidf = pd.read_csv(\"csvdata\\copublications.csv\",index_col=[0])\n",
    "coapublidf.reset_index(drop=True,inplace=True)\n",
    "coapublidf.info()"
   ]
  },
  {
   "cell_type": "markdown",
   "metadata": {},
   "source": [
    "Create author identifier from fileID (an index number plus the last four characters of an author's name) for both dataframes listing filled publications."
   ]
  },
  {
   "cell_type": "code",
   "execution_count": 21,
   "metadata": {},
   "outputs": [],
   "source": [
    "publidf[\"authID\"]=[ident[:-1] for ident in publidf[\"fileID\"]]\n",
    "coapublidf[\"authID\"]=[ident[:-1] for ident in coapublidf[\"fileID\"]]"
   ]
  },
  {
   "cell_type": "code",
   "execution_count": 22,
   "metadata": {},
   "outputs": [
    {
     "data": {
      "text/plain": [
       "0Yang    5\n",
       "2 Chu    4\n",
       "0tein    4\n",
       "1Bado    4\n",
       "1Wang    3\n",
       "1anov    3\n",
       "1ster    3\n",
       "1than    3\n",
       "2 Zhu    3\n",
       "0jima    3\n",
       "0wman    3\n",
       "0nsky    2\n",
       "2iang    2\n",
       "1alij    1\n",
       "2nnan    1\n",
       "Name: authID, dtype: int64"
      ]
     },
     "execution_count": 22,
     "metadata": {},
     "output_type": "execute_result"
    }
   ],
   "source": [
    "#how many publications that have an abstract are there for \"co-authors\"\n",
    "coapublidf[coapublidf.bib_abstract.isna()==False].authID.value_counts()"
   ]
  },
  {
   "cell_type": "code",
   "execution_count": 23,
   "metadata": {},
   "outputs": [],
   "source": [
    "#add coauthor binary column\n",
    "coapublidf[\"coauthor\"]=1\n",
    "publidf[\"coauthor\"]=0"
   ]
  },
  {
   "cell_type": "markdown",
   "metadata": {},
   "source": [
    "# Scrub\n",
    "Remove author's publications known to be incorrect search result and combine dataframes into one with all publications that have abstracts."
   ]
  },
  {
   "cell_type": "code",
   "execution_count": 24,
   "metadata": {
    "scrolled": true
   },
   "outputs": [
    {
     "name": "stdout",
     "output_type": "stream",
     "text": [
      "<class 'pandas.core.frame.DataFrame'>\n",
      "Int64Index: 70 entries, 0 to 74\n",
      "Data columns (total 25 columns):\n",
      "bib_eprint         34 non-null object\n",
      "bib_cites          70 non-null int64\n",
      "citations_link     70 non-null object\n",
      "url_scholarbib     0 non-null float64\n",
      "url_add_sclib      0 non-null float64\n",
      "bib_abstract       40 non-null object\n",
      "bib_author_list    0 non-null float64\n",
      "bib_venue          0 non-null float64\n",
      "bib_year           70 non-null int64\n",
      "bib_gsrank         0 non-null float64\n",
      "bib_title          70 non-null object\n",
      "bib_url            40 non-null object\n",
      "bib_author         70 non-null object\n",
      "bib_listauthors    70 non-null object\n",
      "bib_journal        59 non-null object\n",
      "bib_volume         60 non-null float64\n",
      "bib_number         55 non-null object\n",
      "bib_publisher      57 non-null object\n",
      "bib_pages          64 non-null object\n",
      "source             70 non-null object\n",
      "id_citations       70 non-null object\n",
      "cites_per_year     70 non-null object\n",
      "fileID             70 non-null object\n",
      "authID             70 non-null object\n",
      "coauthor           70 non-null int64\n",
      "dtypes: float64(6), int64(3), object(16)\n",
      "memory usage: 14.2+ KB\n"
     ]
    }
   ],
   "source": [
    "#drop rows at indices where authID is \"1Bado\"\n",
    "coapublidf.drop(index=coapublidf[coapublidf.authID==\"1Bado\"].index,inplace=True)\n",
    "coapublidf.info()"
   ]
  },
  {
   "cell_type": "markdown",
   "metadata": {},
   "source": [
    "With 44 out of 70 or 75 for each dataframe having a non-null abstract, put together dataframe of those with abstract and whether from coauthor or prize-winner list.  This is excepting 1Bado from the `coapublidf`, which I know to be a different author as the publication that P Bado was a co-author on had over 1000 citations and the highest-cited 1Bado publication has 70 citations.  If they were the same, that publication cited 1000+ times would be the first listed for 1Bado.\n",
    "\n",
    "Matching names was one of the more difficult aspects of getting the desired search results."
   ]
  },
  {
   "cell_type": "code",
   "execution_count": 25,
   "metadata": {},
   "outputs": [
    {
     "name": "stdout",
     "output_type": "stream",
     "text": [
      "<class 'pandas.core.frame.DataFrame'>\n",
      "Int64Index: 84 entries, 0 to 69\n",
      "Data columns (total 25 columns):\n",
      "bib_eprint         60 non-null object\n",
      "bib_cites          84 non-null int64\n",
      "citations_link     84 non-null object\n",
      "url_scholarbib     0 non-null float64\n",
      "url_add_sclib      0 non-null float64\n",
      "bib_abstract       84 non-null object\n",
      "bib_author_list    0 non-null float64\n",
      "bib_venue          0 non-null float64\n",
      "bib_year           84 non-null int64\n",
      "bib_gsrank         0 non-null float64\n",
      "bib_title          84 non-null object\n",
      "bib_url            84 non-null object\n",
      "bib_author         84 non-null object\n",
      "bib_listauthors    84 non-null object\n",
      "bib_journal        70 non-null object\n",
      "bib_volume         74 non-null float64\n",
      "bib_number         70 non-null object\n",
      "bib_publisher      75 non-null object\n",
      "bib_pages          76 non-null object\n",
      "source             84 non-null object\n",
      "id_citations       84 non-null object\n",
      "cites_per_year     84 non-null object\n",
      "fileID             84 non-null object\n",
      "authID             84 non-null object\n",
      "coauthor           84 non-null int64\n",
      "dtypes: float64(6), int64(3), object(16)\n",
      "memory usage: 17.1+ KB\n"
     ]
    }
   ],
   "source": [
    "#concatenate where abstract is not null\n",
    "abstractdf = pd.concat([coapublidf[coapublidf.bib_abstract.isna()==False],publidf[publidf.bib_abstract.isna()==False]])\n",
    "abstractdf.info()"
   ]
  },
  {
   "cell_type": "code",
   "execution_count": 26,
   "metadata": {},
   "outputs": [
    {
     "data": {
      "text/html": [
       "<div>\n",
       "<style scoped>\n",
       "    .dataframe tbody tr th:only-of-type {\n",
       "        vertical-align: middle;\n",
       "    }\n",
       "\n",
       "    .dataframe tbody tr th {\n",
       "        vertical-align: top;\n",
       "    }\n",
       "\n",
       "    .dataframe thead th {\n",
       "        text-align: right;\n",
       "    }\n",
       "</style>\n",
       "<table border=\"1\" class=\"dataframe\">\n",
       "  <thead>\n",
       "    <tr style=\"text-align: right;\">\n",
       "      <th></th>\n",
       "      <th>bib_eprint</th>\n",
       "      <th>bib_cites</th>\n",
       "      <th>citations_link</th>\n",
       "      <th>url_scholarbib</th>\n",
       "      <th>url_add_sclib</th>\n",
       "      <th>bib_abstract</th>\n",
       "      <th>bib_author_list</th>\n",
       "      <th>bib_venue</th>\n",
       "      <th>bib_year</th>\n",
       "      <th>bib_gsrank</th>\n",
       "      <th>...</th>\n",
       "      <th>bib_volume</th>\n",
       "      <th>bib_number</th>\n",
       "      <th>bib_publisher</th>\n",
       "      <th>bib_pages</th>\n",
       "      <th>source</th>\n",
       "      <th>id_citations</th>\n",
       "      <th>cites_per_year</th>\n",
       "      <th>fileID</th>\n",
       "      <th>authID</th>\n",
       "      <th>coauthor</th>\n",
       "    </tr>\n",
       "  </thead>\n",
       "  <tbody>\n",
       "    <tr>\n",
       "      <th>79</th>\n",
       "      <td>NaN</td>\n",
       "      <td>7576</td>\n",
       "      <td>/scholar?cites=9561995395788798221</td>\n",
       "      <td>NaN</td>\n",
       "      <td>NaN</td>\n",
       "      <td>We analyze a sequential decision model in whic...</td>\n",
       "      <td>NaN</td>\n",
       "      <td>NaN</td>\n",
       "      <td>1992</td>\n",
       "      <td>NaN</td>\n",
       "      <td>...</td>\n",
       "      <td>107.0</td>\n",
       "      <td>3</td>\n",
       "      <td>MIT Press</td>\n",
       "      <td>797-817</td>\n",
       "      <td>citations</td>\n",
       "      <td>HLpqZooAAAAJ:tKAzc9rXhukC</td>\n",
       "      <td>{1994: 33, 1995: 35, 1996: 45, 1997: 59, 1998:...</td>\n",
       "      <td>9rjee0</td>\n",
       "      <td>9rjee</td>\n",
       "      <td>0</td>\n",
       "    </tr>\n",
       "    <tr>\n",
       "      <th>80</th>\n",
       "      <td>https://www.kellogg.northwestern.edu/research/...</td>\n",
       "      <td>3647</td>\n",
       "      <td>/scholar?cites=14356141185523981128</td>\n",
       "      <td>NaN</td>\n",
       "      <td>NaN</td>\n",
       "      <td>This paper models economic development as a pr...</td>\n",
       "      <td>NaN</td>\n",
       "      <td>NaN</td>\n",
       "      <td>1993</td>\n",
       "      <td>NaN</td>\n",
       "      <td>...</td>\n",
       "      <td>101.0</td>\n",
       "      <td>2</td>\n",
       "      <td>The University of Chicago Press</td>\n",
       "      <td>274-298</td>\n",
       "      <td>citations</td>\n",
       "      <td>HLpqZooAAAAJ:0izLItjtcgwC</td>\n",
       "      <td>{1995: 20, 1996: 25, 1997: 25, 1998: 34, 1999:...</td>\n",
       "      <td>9rjee1</td>\n",
       "      <td>9rjee</td>\n",
       "      <td>0</td>\n",
       "    </tr>\n",
       "    <tr>\n",
       "      <th>81</th>\n",
       "      <td>http://brandonkendhammer.com/themes_in_global_...</td>\n",
       "      <td>3277</td>\n",
       "      <td>/scholar?cites=6324759133315472718</td>\n",
       "      <td>NaN</td>\n",
       "      <td>NaN</td>\n",
       "      <td>Winner of the 2011 Financial Times/Goldman Sac...</td>\n",
       "      <td>NaN</td>\n",
       "      <td>NaN</td>\n",
       "      <td>2011</td>\n",
       "      <td>NaN</td>\n",
       "      <td>...</td>\n",
       "      <td>NaN</td>\n",
       "      <td>NaN</td>\n",
       "      <td>Public Affairs</td>\n",
       "      <td>NaN</td>\n",
       "      <td>citations</td>\n",
       "      <td>HLpqZooAAAAJ:738O_yMBCRsC</td>\n",
       "      <td>{2011: 57, 2012: 210, 2013: 336, 2014: 403, 20...</td>\n",
       "      <td>9rjee2</td>\n",
       "      <td>9rjee</td>\n",
       "      <td>0</td>\n",
       "    </tr>\n",
       "    <tr>\n",
       "      <th>82</th>\n",
       "      <td>https://pubs.aeaweb.org/doi/pdfplus/10.1257/ap...</td>\n",
       "      <td>2059</td>\n",
       "      <td>/scholar?cites=10229049581137351676</td>\n",
       "      <td>NaN</td>\n",
       "      <td>NaN</td>\n",
       "      <td>This paper reports results from the randomized...</td>\n",
       "      <td>NaN</td>\n",
       "      <td>NaN</td>\n",
       "      <td>2015</td>\n",
       "      <td>NaN</td>\n",
       "      <td>...</td>\n",
       "      <td>7.0</td>\n",
       "      <td>1</td>\n",
       "      <td>NaN</td>\n",
       "      <td>22-53</td>\n",
       "      <td>citations</td>\n",
       "      <td>HLpqZooAAAAJ:0KyAp5RtaNEC</td>\n",
       "      <td>{2009: 8, 2010: 75, 2011: 108, 2012: 128, 2013...</td>\n",
       "      <td>9rjee3</td>\n",
       "      <td>9rjee</td>\n",
       "      <td>0</td>\n",
       "    </tr>\n",
       "    <tr>\n",
       "      <th>83</th>\n",
       "      <td>https://pubs.aeaweb.org/doi/pdfplus/10.1257/je...</td>\n",
       "      <td>1961</td>\n",
       "      <td>/scholar?cites=10370990907312560167</td>\n",
       "      <td>NaN</td>\n",
       "      <td>NaN</td>\n",
       "      <td>The 1990 World Development Report from the Wor...</td>\n",
       "      <td>NaN</td>\n",
       "      <td>NaN</td>\n",
       "      <td>2007</td>\n",
       "      <td>NaN</td>\n",
       "      <td>...</td>\n",
       "      <td>21.0</td>\n",
       "      <td>1</td>\n",
       "      <td>NaN</td>\n",
       "      <td>141-168</td>\n",
       "      <td>citations</td>\n",
       "      <td>HLpqZooAAAAJ:ipzZ9siozwsC</td>\n",
       "      <td>{2006: 5, 2007: 27, 2008: 71, 2009: 66, 2010: ...</td>\n",
       "      <td>9rjee4</td>\n",
       "      <td>9rjee</td>\n",
       "      <td>0</td>\n",
       "    </tr>\n",
       "  </tbody>\n",
       "</table>\n",
       "<p>5 rows × 25 columns</p>\n",
       "</div>"
      ],
      "text/plain": [
       "                                           bib_eprint  bib_cites  \\\n",
       "79                                                NaN       7576   \n",
       "80  https://www.kellogg.northwestern.edu/research/...       3647   \n",
       "81  http://brandonkendhammer.com/themes_in_global_...       3277   \n",
       "82  https://pubs.aeaweb.org/doi/pdfplus/10.1257/ap...       2059   \n",
       "83  https://pubs.aeaweb.org/doi/pdfplus/10.1257/je...       1961   \n",
       "\n",
       "                         citations_link  url_scholarbib  url_add_sclib  \\\n",
       "79   /scholar?cites=9561995395788798221             NaN            NaN   \n",
       "80  /scholar?cites=14356141185523981128             NaN            NaN   \n",
       "81   /scholar?cites=6324759133315472718             NaN            NaN   \n",
       "82  /scholar?cites=10229049581137351676             NaN            NaN   \n",
       "83  /scholar?cites=10370990907312560167             NaN            NaN   \n",
       "\n",
       "                                         bib_abstract  bib_author_list  \\\n",
       "79  We analyze a sequential decision model in whic...              NaN   \n",
       "80  This paper models economic development as a pr...              NaN   \n",
       "81  Winner of the 2011 Financial Times/Goldman Sac...              NaN   \n",
       "82  This paper reports results from the randomized...              NaN   \n",
       "83  The 1990 World Development Report from the Wor...              NaN   \n",
       "\n",
       "    bib_venue  bib_year  bib_gsrank   ...    bib_volume bib_number  \\\n",
       "79        NaN      1992         NaN   ...         107.0          3   \n",
       "80        NaN      1993         NaN   ...         101.0          2   \n",
       "81        NaN      2011         NaN   ...           NaN        NaN   \n",
       "82        NaN      2015         NaN   ...           7.0          1   \n",
       "83        NaN      2007         NaN   ...          21.0          1   \n",
       "\n",
       "                      bib_publisher bib_pages     source  \\\n",
       "79                        MIT Press   797-817  citations   \n",
       "80  The University of Chicago Press   274-298  citations   \n",
       "81                   Public Affairs       NaN  citations   \n",
       "82                              NaN     22-53  citations   \n",
       "83                              NaN   141-168  citations   \n",
       "\n",
       "                 id_citations  \\\n",
       "79  HLpqZooAAAAJ:tKAzc9rXhukC   \n",
       "80  HLpqZooAAAAJ:0izLItjtcgwC   \n",
       "81  HLpqZooAAAAJ:738O_yMBCRsC   \n",
       "82  HLpqZooAAAAJ:0KyAp5RtaNEC   \n",
       "83  HLpqZooAAAAJ:ipzZ9siozwsC   \n",
       "\n",
       "                                       cites_per_year  fileID authID coauthor  \n",
       "79  {1994: 33, 1995: 35, 1996: 45, 1997: 59, 1998:...  9rjee0  9rjee        0  \n",
       "80  {1995: 20, 1996: 25, 1997: 25, 1998: 34, 1999:...  9rjee1  9rjee        0  \n",
       "81  {2011: 57, 2012: 210, 2013: 336, 2014: 403, 20...  9rjee2  9rjee        0  \n",
       "82  {2009: 8, 2010: 75, 2011: 108, 2012: 128, 2013...  9rjee3  9rjee        0  \n",
       "83  {2006: 5, 2007: 27, 2008: 71, 2009: 66, 2010: ...  9rjee4  9rjee        0  \n",
       "\n",
       "[5 rows x 25 columns]"
      ]
     },
     "execution_count": 26,
     "metadata": {},
     "output_type": "execute_result"
    }
   ],
   "source": [
    "#reset index and not add as a column the one being replaced (drop=True)\n",
    "abstractdf.reset_index(drop=True,inplace=True)\n",
    "abstractdf.tail()"
   ]
  },
  {
   "cell_type": "code",
   "execution_count": 27,
   "metadata": {},
   "outputs": [],
   "source": [
    "#save this dataframe\n",
    "abstractdf.to_csv(\"csvdata\\pubs_with_abstracts.csv\")"
   ]
  },
  {
   "cell_type": "code",
   "execution_count": 19,
   "metadata": {},
   "outputs": [
    {
     "name": "stdout",
     "output_type": "stream",
     "text": [
      "<class 'pandas.core.frame.DataFrame'>\n",
      "Int64Index: 84 entries, 0 to 83\n",
      "Data columns (total 25 columns):\n",
      "bib_eprint         60 non-null object\n",
      "bib_cites          84 non-null int64\n",
      "citations_link     84 non-null object\n",
      "url_scholarbib     0 non-null float64\n",
      "url_add_sclib      0 non-null float64\n",
      "bib_abstract       84 non-null object\n",
      "bib_author_list    0 non-null float64\n",
      "bib_venue          0 non-null float64\n",
      "bib_year           84 non-null int64\n",
      "bib_gsrank         0 non-null float64\n",
      "bib_title          84 non-null object\n",
      "bib_url            84 non-null object\n",
      "bib_author         84 non-null object\n",
      "bib_listauthors    84 non-null object\n",
      "bib_journal        70 non-null object\n",
      "bib_volume         74 non-null float64\n",
      "bib_number         70 non-null object\n",
      "bib_publisher      75 non-null object\n",
      "bib_pages          76 non-null object\n",
      "source             84 non-null object\n",
      "id_citations       84 non-null object\n",
      "cites_per_year     84 non-null object\n",
      "fileID             84 non-null object\n",
      "authID             84 non-null object\n",
      "coauthor           84 non-null int64\n",
      "dtypes: float64(6), int64(3), object(16)\n",
      "memory usage: 17.1+ KB\n"
     ]
    }
   ],
   "source": [
    "abstractdf = pd.read_csv(\"csvdata\\pubs_with_abstracts.csv\", index_col=[0])\n",
    "abstractdf.info()"
   ]
  },
  {
   "cell_type": "markdown",
   "metadata": {},
   "source": [
    "Add field from Nobel Prize winner information to authorinfo.csv."
   ]
  },
  {
   "cell_type": "code",
   "execution_count": 3,
   "metadata": {
    "scrolled": true
   },
   "outputs": [
    {
     "name": "stdout",
     "output_type": "stream",
     "text": [
      "<class 'pandas.core.frame.DataFrame'>\n",
      "RangeIndex: 31 entries, 0 to 30\n",
      "Data columns (total 17 columns):\n",
      "affiliation       31 non-null object\n",
      "id                31 non-null object\n",
      "name              31 non-null object\n",
      "citedby           31 non-null int64\n",
      "citedby5y         29 non-null float64\n",
      "cites_per_year    29 non-null object\n",
      "coauthors         29 non-null object\n",
      "email             29 non-null object\n",
      "hindex            29 non-null float64\n",
      "hindex5y          29 non-null float64\n",
      "i10index          29 non-null float64\n",
      "i10index5y        29 non-null float64\n",
      "interests         31 non-null object\n",
      "url_picture       31 non-null object\n",
      "filled            31 non-null bool\n",
      "fileID            31 non-null object\n",
      "coauthor          31 non-null int64\n",
      "dtypes: bool(1), float64(5), int64(2), object(9)\n",
      "memory usage: 4.0+ KB\n"
     ]
    }
   ],
   "source": [
    "authdf = pd.read_csv(\"csvdata/authorinfo.csv\",index_col=[0])\n",
    "authdf.reset_index(drop=True, inplace=True)\n",
    "authdf.info()"
   ]
  },
  {
   "cell_type": "code",
   "execution_count": 4,
   "metadata": {},
   "outputs": [
    {
     "data": {
      "text/plain": [
       "31"
      ]
     },
     "execution_count": 4,
     "metadata": {},
     "output_type": "execute_result"
    }
   ],
   "source": [
    "#checking all fileID's are unique to each record\n",
    "sum(authdf.fileID.value_counts())"
   ]
  },
  {
   "cell_type": "code",
   "execution_count": 53,
   "metadata": {},
   "outputs": [
    {
     "name": "stdout",
     "output_type": "stream",
     "text": [
      "<class 'pandas.core.frame.DataFrame'>\n",
      "Int64Index: 95 entries, 1 to 168\n",
      "Data columns (total 5 columns):\n",
      "name1         95 non-null object\n",
      "text1         95 non-null object\n",
      "year          95 non-null int64\n",
      "field         95 non-null object\n",
      "additional    95 non-null object\n",
      "dtypes: int64(1), object(4)\n",
      "memory usage: 4.5+ KB\n"
     ]
    }
   ],
   "source": [
    "#get sciences Nobel Prize winner information from 2010-2019\n",
    "sciwindf = pd.read_csv(\"files/science10years.csv\",index_col=[0])\n",
    "sciwindf.info()"
   ]
  },
  {
   "cell_type": "code",
   "execution_count": 121,
   "metadata": {},
   "outputs": [],
   "source": [
    "sciwindf[\"thor\"]=[name[-4:] for name in sciwindf.name1] #last four characters of authorname"
   ]
  },
  {
   "cell_type": "code",
   "execution_count": 122,
   "metadata": {},
   "outputs": [
    {
     "data": {
      "text/plain": [
       "95"
      ]
     },
     "execution_count": 122,
     "metadata": {},
     "output_type": "execute_result"
    }
   ],
   "source": [
    "#be sure last four characters are unique\n",
    "sum(sciwindf.thor.value_counts())"
   ]
  },
  {
   "cell_type": "code",
   "execution_count": 7,
   "metadata": {},
   "outputs": [],
   "source": [
    "#create new empty column for winning area in authdf\n",
    "authdf[\"area\"]=np.nan"
   ]
  },
  {
   "cell_type": "code",
   "execution_count": 180,
   "metadata": {
    "scrolled": true
   },
   "outputs": [],
   "source": [
    "#add field if sciwindf.name1 last4 matches fileID from authdf\n",
    "for idx, nameid in zip(authdf.index,authdf.fileID):\n",
    "    last4 = nameid[-4:]\n",
    "    winarea = sciwindf[sciwindf.thor==last4].field\n",
    "    area = None\n",
    "    try:\n",
    "        for i in winarea:\n",
    "            area = i\n",
    "    except:\n",
    "        continue\n",
    "        \n",
    "    authdf.iloc[idx,-1]=area #last column added was \"area\""
   ]
  },
  {
   "cell_type": "code",
   "execution_count": 181,
   "metadata": {},
   "outputs": [
    {
     "data": {
      "text/html": [
       "<div>\n",
       "<style scoped>\n",
       "    .dataframe tbody tr th:only-of-type {\n",
       "        vertical-align: middle;\n",
       "    }\n",
       "\n",
       "    .dataframe tbody tr th {\n",
       "        vertical-align: top;\n",
       "    }\n",
       "\n",
       "    .dataframe thead th {\n",
       "        text-align: right;\n",
       "    }\n",
       "</style>\n",
       "<table border=\"1\" class=\"dataframe\">\n",
       "  <thead>\n",
       "    <tr style=\"text-align: right;\">\n",
       "      <th></th>\n",
       "      <th>affiliation</th>\n",
       "      <th>id</th>\n",
       "      <th>name</th>\n",
       "      <th>citedby</th>\n",
       "      <th>citedby5y</th>\n",
       "      <th>cites_per_year</th>\n",
       "      <th>coauthors</th>\n",
       "      <th>email</th>\n",
       "      <th>hindex</th>\n",
       "      <th>hindex5y</th>\n",
       "      <th>i10index</th>\n",
       "      <th>i10index5y</th>\n",
       "      <th>interests</th>\n",
       "      <th>url_picture</th>\n",
       "      <th>filled</th>\n",
       "      <th>fileID</th>\n",
       "      <th>coauthor</th>\n",
       "      <th>area</th>\n",
       "    </tr>\n",
       "  </thead>\n",
       "  <tbody>\n",
       "    <tr>\n",
       "      <th>0</th>\n",
       "      <td>University of Chicago, Booth School of Business</td>\n",
       "      <td>Tvzd5GgAAAAJ</td>\n",
       "      <td>Richard Thaler</td>\n",
       "      <td>151057</td>\n",
       "      <td>61520.0</td>\n",
       "      <td>{1991: 412, 1992: 487, 1993: 505, 1994: 679, 1...</td>\n",
       "      <td>[]</td>\n",
       "      <td>@chicagobooth.edu</td>\n",
       "      <td>98.0</td>\n",
       "      <td>80.0</td>\n",
       "      <td>183.0</td>\n",
       "      <td>145.0</td>\n",
       "      <td>['Behavioral Economics']</td>\n",
       "      <td>https://scholar.google.com/citations?view_op=m...</td>\n",
       "      <td>True</td>\n",
       "      <td>0aler</td>\n",
       "      <td>0</td>\n",
       "      <td>economics</td>\n",
       "    </tr>\n",
       "    <tr>\n",
       "      <th>1</th>\n",
       "      <td>Bell Labs retired</td>\n",
       "      <td>3QEKOmMAAAAJ</td>\n",
       "      <td>Arthur Ashkin</td>\n",
       "      <td>41204</td>\n",
       "      <td>9838.0</td>\n",
       "      <td>{1981: 138, 1982: 143, 1983: 123, 1984: 196, 1...</td>\n",
       "      <td>[]</td>\n",
       "      <td>NaN</td>\n",
       "      <td>62.0</td>\n",
       "      <td>35.0</td>\n",
       "      <td>117.0</td>\n",
       "      <td>53.0</td>\n",
       "      <td>['Laser trapping', 'solar power']</td>\n",
       "      <td>https://scholar.google.com/citations?view_op=m...</td>\n",
       "      <td>True</td>\n",
       "      <td>0hkin</td>\n",
       "      <td>0</td>\n",
       "      <td>physics</td>\n",
       "    </tr>\n",
       "    <tr>\n",
       "      <th>2</th>\n",
       "      <td>Norman Rostoker Chair Professor, UC Irvine</td>\n",
       "      <td>qwN3bpIAAAAJ</td>\n",
       "      <td>Toshiki Tajima</td>\n",
       "      <td>27945</td>\n",
       "      <td>7924.0</td>\n",
       "      <td>{1982: 80, 1983: 105, 1984: 99, 1985: 191, 198...</td>\n",
       "      <td>[]</td>\n",
       "      <td>@uci.edu</td>\n",
       "      <td>75.0</td>\n",
       "      <td>37.0</td>\n",
       "      <td>317.0</td>\n",
       "      <td>132.0</td>\n",
       "      <td>['plasma physics', 'accelerators', 'lasers']</td>\n",
       "      <td>https://scholar.google.com/citations?view_op=m...</td>\n",
       "      <td>True</td>\n",
       "      <td>0jima</td>\n",
       "      <td>1</td>\n",
       "      <td>None</td>\n",
       "    </tr>\n",
       "    <tr>\n",
       "      <th>3</th>\n",
       "      <td>University of Michigan</td>\n",
       "      <td>pGGjfS8AAAAJ</td>\n",
       "      <td>Daniel J. Klionsky</td>\n",
       "      <td>90326</td>\n",
       "      <td>43675.0</td>\n",
       "      <td>{1997: 301, 1998: 326, 1999: 328, 2000: 533, 2...</td>\n",
       "      <td>[{'affiliation': 'Department of Biomedical Sci...</td>\n",
       "      <td>@umich.edu</td>\n",
       "      <td>129.0</td>\n",
       "      <td>85.0</td>\n",
       "      <td>353.0</td>\n",
       "      <td>297.0</td>\n",
       "      <td>['Autophagy']</td>\n",
       "      <td>https://scholar.google.com/citations?view_op=m...</td>\n",
       "      <td>True</td>\n",
       "      <td>0nsky</td>\n",
       "      <td>1</td>\n",
       "      <td>None</td>\n",
       "    </tr>\n",
       "    <tr>\n",
       "      <th>4</th>\n",
       "      <td>Professor of Economics, Booth School of Busine...</td>\n",
       "      <td>zGJKZpkAAAAJ</td>\n",
       "      <td>Marianne Bertrand</td>\n",
       "      <td>44683</td>\n",
       "      <td>NaN</td>\n",
       "      <td>NaN</td>\n",
       "      <td>NaN</td>\n",
       "      <td>@chicagobooth.edu</td>\n",
       "      <td>NaN</td>\n",
       "      <td>NaN</td>\n",
       "      <td>NaN</td>\n",
       "      <td>NaN</td>\n",
       "      <td>['Marianne Bertrand']</td>\n",
       "      <td>https://scholar.google.com/citations?view_op=m...</td>\n",
       "      <td>False</td>\n",
       "      <td>0rand</td>\n",
       "      <td>1</td>\n",
       "      <td>None</td>\n",
       "    </tr>\n",
       "  </tbody>\n",
       "</table>\n",
       "</div>"
      ],
      "text/plain": [
       "                                         affiliation            id  \\\n",
       "0    University of Chicago, Booth School of Business  Tvzd5GgAAAAJ   \n",
       "1                                  Bell Labs retired  3QEKOmMAAAAJ   \n",
       "2         Norman Rostoker Chair Professor, UC Irvine  qwN3bpIAAAAJ   \n",
       "3                             University of Michigan  pGGjfS8AAAAJ   \n",
       "4  Professor of Economics, Booth School of Busine...  zGJKZpkAAAAJ   \n",
       "\n",
       "                 name  citedby  citedby5y  \\\n",
       "0      Richard Thaler   151057    61520.0   \n",
       "1       Arthur Ashkin    41204     9838.0   \n",
       "2      Toshiki Tajima    27945     7924.0   \n",
       "3  Daniel J. Klionsky    90326    43675.0   \n",
       "4   Marianne Bertrand    44683        NaN   \n",
       "\n",
       "                                      cites_per_year  \\\n",
       "0  {1991: 412, 1992: 487, 1993: 505, 1994: 679, 1...   \n",
       "1  {1981: 138, 1982: 143, 1983: 123, 1984: 196, 1...   \n",
       "2  {1982: 80, 1983: 105, 1984: 99, 1985: 191, 198...   \n",
       "3  {1997: 301, 1998: 326, 1999: 328, 2000: 533, 2...   \n",
       "4                                                NaN   \n",
       "\n",
       "                                           coauthors              email  \\\n",
       "0                                                 []  @chicagobooth.edu   \n",
       "1                                                 []                NaN   \n",
       "2                                                 []           @uci.edu   \n",
       "3  [{'affiliation': 'Department of Biomedical Sci...         @umich.edu   \n",
       "4                                                NaN  @chicagobooth.edu   \n",
       "\n",
       "   hindex  hindex5y  i10index  i10index5y  \\\n",
       "0    98.0      80.0     183.0       145.0   \n",
       "1    62.0      35.0     117.0        53.0   \n",
       "2    75.0      37.0     317.0       132.0   \n",
       "3   129.0      85.0     353.0       297.0   \n",
       "4     NaN       NaN       NaN         NaN   \n",
       "\n",
       "                                      interests  \\\n",
       "0                      ['Behavioral Economics']   \n",
       "1             ['Laser trapping', 'solar power']   \n",
       "2  ['plasma physics', 'accelerators', 'lasers']   \n",
       "3                                 ['Autophagy']   \n",
       "4                         ['Marianne Bertrand']   \n",
       "\n",
       "                                         url_picture  filled fileID  coauthor  \\\n",
       "0  https://scholar.google.com/citations?view_op=m...    True  0aler         0   \n",
       "1  https://scholar.google.com/citations?view_op=m...    True  0hkin         0   \n",
       "2  https://scholar.google.com/citations?view_op=m...    True  0jima         1   \n",
       "3  https://scholar.google.com/citations?view_op=m...    True  0nsky         1   \n",
       "4  https://scholar.google.com/citations?view_op=m...   False  0rand         1   \n",
       "\n",
       "        area  \n",
       "0  economics  \n",
       "1    physics  \n",
       "2       None  \n",
       "3       None  \n",
       "4       None  "
      ]
     },
     "execution_count": 181,
     "metadata": {},
     "output_type": "execute_result"
    }
   ],
   "source": [
    "#it should be the ones that are missing are not Nobel Prize winners\n",
    "authdf.head()"
   ]
  },
  {
   "cell_type": "code",
   "execution_count": 184,
   "metadata": {},
   "outputs": [],
   "source": [
    "#save new file of author information with winning areas\n",
    "authdf.to_csv(\"files/authors.csv\")"
   ]
  },
  {
   "cell_type": "markdown",
   "metadata": {},
   "source": [
    "Use all available information to fill in `abstractdf` with Nobel Prize winning field for that author or coauthor."
   ]
  },
  {
   "cell_type": "code",
   "execution_count": 195,
   "metadata": {},
   "outputs": [],
   "source": [
    "#set column to be null\n",
    "abstractdf[\"area\"]=None"
   ]
  },
  {
   "cell_type": "code",
   "execution_count": 199,
   "metadata": {},
   "outputs": [],
   "source": [
    "#if an author in bib_listauthors matches an authdf.name and area is not NaN\n",
    "for idx, authors in zip(abstractdf.index,abstractdf.bib_listauthors):\n",
    "    authlist = authors.strip(\"[]\").split(\", \")#expecting string with appearance of a list: ['Name H Itisi','I M Here']\n",
    "    area = None\n",
    "    hasfield=False\n",
    "    for auth in authlist:\n",
    "        authname = auth.strip(\"'\")#remove trailing or leading apostrophes\n",
    "        abslast4=authname[-4:] #find whether last four characters match a name in authdf and add that field\n",
    "        winarea = authdf[authdf.name4==abslast4].area #find the winning subject area for that match\n",
    "        try:\n",
    "            for i in winarea:\n",
    "                area = i\n",
    "            hasfield = True\n",
    "        except:\n",
    "            continue\n",
    "        if hasfield:#so the first author listed in bib_listauthors that matches an author in authdf and has a useful result\n",
    "            abstractdf.iloc[idx,-1]=area #last column is \"area\", that record will be classified in that area\n",
    "            break #and leave the for loop now that it found an area\n",
    "        else:\n",
    "            continue"
   ]
  },
  {
   "cell_type": "code",
   "execution_count": 228,
   "metadata": {},
   "outputs": [],
   "source": [
    "#create list with one dataframe for each authID and concatenate back together\n",
    "#after filling with nearby values in area\n",
    "concatlist = []\n",
    "for authorID in abstractdf.authID.value_counts().index: #set of authID values\n",
    "    tempdf = abstractdf[abstractdf.authID==authorID].copy() #separate out each dataframe by authID\n",
    "    tempdf.area.fillna(method=\"ffill\",inplace=True) #fill forwards\n",
    "    tempdf.area.fillna(method=\"bfill\",inplace=True) #fill backwards\n",
    "    concatlist.append(tempdf)\n",
    "newabsdf = pd.concat(concatlist)"
   ]
  },
  {
   "cell_type": "code",
   "execution_count": 237,
   "metadata": {},
   "outputs": [
    {
     "data": {
      "text/html": [
       "<div>\n",
       "<style scoped>\n",
       "    .dataframe tbody tr th:only-of-type {\n",
       "        vertical-align: middle;\n",
       "    }\n",
       "\n",
       "    .dataframe tbody tr th {\n",
       "        vertical-align: top;\n",
       "    }\n",
       "\n",
       "    .dataframe thead th {\n",
       "        text-align: right;\n",
       "    }\n",
       "</style>\n",
       "<table border=\"1\" class=\"dataframe\">\n",
       "  <thead>\n",
       "    <tr style=\"text-align: right;\">\n",
       "      <th></th>\n",
       "      <th>bib_eprint</th>\n",
       "      <th>bib_cites</th>\n",
       "      <th>citations_link</th>\n",
       "      <th>url_scholarbib</th>\n",
       "      <th>url_add_sclib</th>\n",
       "      <th>bib_abstract</th>\n",
       "      <th>bib_author_list</th>\n",
       "      <th>bib_venue</th>\n",
       "      <th>bib_year</th>\n",
       "      <th>bib_gsrank</th>\n",
       "      <th>...</th>\n",
       "      <th>bib_number</th>\n",
       "      <th>bib_publisher</th>\n",
       "      <th>bib_pages</th>\n",
       "      <th>source</th>\n",
       "      <th>id_citations</th>\n",
       "      <th>cites_per_year</th>\n",
       "      <th>fileID</th>\n",
       "      <th>authID</th>\n",
       "      <th>coauthor</th>\n",
       "      <th>area</th>\n",
       "    </tr>\n",
       "  </thead>\n",
       "  <tbody>\n",
       "    <tr>\n",
       "      <th>72</th>\n",
       "      <td>https://rupress.org/jem/article-pdf/182/2/459/...</td>\n",
       "      <td>1918</td>\n",
       "      <td>/scholar?cites=6876382103574609531</td>\n",
       "      <td>NaN</td>\n",
       "      <td>NaN</td>\n",
       "      <td>The importance of the B7/CD28/CTLA-4 molecules...</td>\n",
       "      <td>NaN</td>\n",
       "      <td>NaN</td>\n",
       "      <td>1995</td>\n",
       "      <td>NaN</td>\n",
       "      <td>...</td>\n",
       "      <td>2</td>\n",
       "      <td>NaN</td>\n",
       "      <td>459-465</td>\n",
       "      <td>citations</td>\n",
       "      <td>Vq6NVkAAAAAJ:UeHWp8X0CEIC</td>\n",
       "      <td>{1995: 6, 1996: 41, 1997: 52, 1998: 82, 1999: ...</td>\n",
       "      <td>6ison3</td>\n",
       "      <td>6ison</td>\n",
       "      <td>0</td>\n",
       "      <td>None</td>\n",
       "    </tr>\n",
       "    <tr>\n",
       "      <th>73</th>\n",
       "      <td>NaN</td>\n",
       "      <td>1837</td>\n",
       "      <td>/scholar?cites=5037358054144997456</td>\n",
       "      <td>NaN</td>\n",
       "      <td>NaN</td>\n",
       "      <td>OCCUPANCY of the T-cell antigen receptor is in...</td>\n",
       "      <td>NaN</td>\n",
       "      <td>NaN</td>\n",
       "      <td>1992</td>\n",
       "      <td>NaN</td>\n",
       "      <td>...</td>\n",
       "      <td>6370</td>\n",
       "      <td>Nature Publishing Group</td>\n",
       "      <td>607-609</td>\n",
       "      <td>citations</td>\n",
       "      <td>Vq6NVkAAAAAJ:d1gkVwhDpl0C</td>\n",
       "      <td>{1992: 21, 1993: 79, 1994: 110, 1995: 100, 199...</td>\n",
       "      <td>6ison4</td>\n",
       "      <td>6ison</td>\n",
       "      <td>0</td>\n",
       "      <td>None</td>\n",
       "    </tr>\n",
       "    <tr>\n",
       "      <th>44</th>\n",
       "      <td>NaN</td>\n",
       "      <td>3362</td>\n",
       "      <td>/scholar?cites=15657353520048317916</td>\n",
       "      <td>NaN</td>\n",
       "      <td>NaN</td>\n",
       "      <td>The light-driven proton pump-bacteriorhodopsin...</td>\n",
       "      <td>NaN</td>\n",
       "      <td>NaN</td>\n",
       "      <td>1990</td>\n",
       "      <td>NaN</td>\n",
       "      <td>...</td>\n",
       "      <td>4</td>\n",
       "      <td>Academic Press</td>\n",
       "      <td>899-929</td>\n",
       "      <td>citations</td>\n",
       "      <td>Dg6IGLQAAAAJ:1yQoGdGgb4wC</td>\n",
       "      <td>{1990: 22, 1991: 162, 1992: 223, 1993: 204, 19...</td>\n",
       "      <td>0rson0</td>\n",
       "      <td>0rson</td>\n",
       "      <td>0</td>\n",
       "      <td>chemistry</td>\n",
       "    </tr>\n",
       "    <tr>\n",
       "      <th>45</th>\n",
       "      <td>https://www.ncbi.nlm.nih.gov/pmc/articles/PMC2...</td>\n",
       "      <td>1645</td>\n",
       "      <td>/scholar?cites=11193056054889213690</td>\n",
       "      <td>NaN</td>\n",
       "      <td>NaN</td>\n",
       "      <td>G-protein-coupled receptors have a major role ...</td>\n",
       "      <td>NaN</td>\n",
       "      <td>NaN</td>\n",
       "      <td>2008</td>\n",
       "      <td>NaN</td>\n",
       "      <td>...</td>\n",
       "      <td>7203</td>\n",
       "      <td>Nature Publishing Group</td>\n",
       "      <td>486-491</td>\n",
       "      <td>citations</td>\n",
       "      <td>Dg6IGLQAAAAJ:OU6Ihb5iCvQC</td>\n",
       "      <td>{2008: 32, 2009: 183, 2010: 228, 2011: 263, 20...</td>\n",
       "      <td>0rson2</td>\n",
       "      <td>0rson</td>\n",
       "      <td>0</td>\n",
       "      <td>chemistry</td>\n",
       "    </tr>\n",
       "    <tr>\n",
       "      <th>70</th>\n",
       "      <td>NaN</td>\n",
       "      <td>3207</td>\n",
       "      <td>/scholar?cites=16355212970030274248</td>\n",
       "      <td>NaN</td>\n",
       "      <td>NaN</td>\n",
       "      <td>NEW ways of making antibodies have recently be...</td>\n",
       "      <td>NaN</td>\n",
       "      <td>NaN</td>\n",
       "      <td>1990</td>\n",
       "      <td>NaN</td>\n",
       "      <td>...</td>\n",
       "      <td>6301</td>\n",
       "      <td>Nature Publishing Group</td>\n",
       "      <td>552-554</td>\n",
       "      <td>citations</td>\n",
       "      <td>QQOy6PIAAAAJ:u5HHmVD_uO8C</td>\n",
       "      <td>{1991: 29, 1992: 54, 1993: 62, 1994: 70, 1995:...</td>\n",
       "      <td>5nter0</td>\n",
       "      <td>5nter</td>\n",
       "      <td>0</td>\n",
       "      <td>None</td>\n",
       "    </tr>\n",
       "  </tbody>\n",
       "</table>\n",
       "<p>5 rows × 26 columns</p>\n",
       "</div>"
      ],
      "text/plain": [
       "                                           bib_eprint  bib_cites  \\\n",
       "72  https://rupress.org/jem/article-pdf/182/2/459/...       1918   \n",
       "73                                                NaN       1837   \n",
       "44                                                NaN       3362   \n",
       "45  https://www.ncbi.nlm.nih.gov/pmc/articles/PMC2...       1645   \n",
       "70                                                NaN       3207   \n",
       "\n",
       "                         citations_link  url_scholarbib  url_add_sclib  \\\n",
       "72   /scholar?cites=6876382103574609531             NaN            NaN   \n",
       "73   /scholar?cites=5037358054144997456             NaN            NaN   \n",
       "44  /scholar?cites=15657353520048317916             NaN            NaN   \n",
       "45  /scholar?cites=11193056054889213690             NaN            NaN   \n",
       "70  /scholar?cites=16355212970030274248             NaN            NaN   \n",
       "\n",
       "                                         bib_abstract  bib_author_list  \\\n",
       "72  The importance of the B7/CD28/CTLA-4 molecules...              NaN   \n",
       "73  OCCUPANCY of the T-cell antigen receptor is in...              NaN   \n",
       "44  The light-driven proton pump-bacteriorhodopsin...              NaN   \n",
       "45  G-protein-coupled receptors have a major role ...              NaN   \n",
       "70  NEW ways of making antibodies have recently be...              NaN   \n",
       "\n",
       "    bib_venue  bib_year  bib_gsrank    ...     bib_number  \\\n",
       "72        NaN      1995         NaN    ...              2   \n",
       "73        NaN      1992         NaN    ...           6370   \n",
       "44        NaN      1990         NaN    ...              4   \n",
       "45        NaN      2008         NaN    ...           7203   \n",
       "70        NaN      1990         NaN    ...           6301   \n",
       "\n",
       "              bib_publisher bib_pages     source               id_citations  \\\n",
       "72                      NaN   459-465  citations  Vq6NVkAAAAAJ:UeHWp8X0CEIC   \n",
       "73  Nature Publishing Group   607-609  citations  Vq6NVkAAAAAJ:d1gkVwhDpl0C   \n",
       "44           Academic Press   899-929  citations  Dg6IGLQAAAAJ:1yQoGdGgb4wC   \n",
       "45  Nature Publishing Group   486-491  citations  Dg6IGLQAAAAJ:OU6Ihb5iCvQC   \n",
       "70  Nature Publishing Group   552-554  citations  QQOy6PIAAAAJ:u5HHmVD_uO8C   \n",
       "\n",
       "                                       cites_per_year  fileID authID coauthor  \\\n",
       "72  {1995: 6, 1996: 41, 1997: 52, 1998: 82, 1999: ...  6ison3  6ison        0   \n",
       "73  {1992: 21, 1993: 79, 1994: 110, 1995: 100, 199...  6ison4  6ison        0   \n",
       "44  {1990: 22, 1991: 162, 1992: 223, 1993: 204, 19...  0rson0  0rson        0   \n",
       "45  {2008: 32, 2009: 183, 2010: 228, 2011: 263, 20...  0rson2  0rson        0   \n",
       "70  {1991: 29, 1992: 54, 1993: 62, 1994: 70, 1995:...  5nter0  5nter        0   \n",
       "\n",
       "         area  \n",
       "72       None  \n",
       "73       None  \n",
       "44  chemistry  \n",
       "45  chemistry  \n",
       "70       None  \n",
       "\n",
       "[5 rows x 26 columns]"
      ]
     },
     "execution_count": 237,
     "metadata": {},
     "output_type": "execute_result"
    }
   ],
   "source": [
    "newabsdf[newabsdf.coauthor==0].tail()"
   ]
  },
  {
   "cell_type": "code",
   "execution_count": 233,
   "metadata": {
    "scrolled": false
   },
   "outputs": [],
   "source": [
    "#some values for area are missing from Nobel Prize winners\n",
    "authdf[authdf.coauthor==0]\n",
    "#add field if sciwindf.name1 last4 matches fileID from authdf\n",
    "for idx, nameid in zip(newabsdf.index,newabsdf.authID):\n",
    "    if newabsdf.iloc[idx,-2]==0: #if the coauthor column is 0; the record is for a Nobel winner\n",
    "        last4 = nameid[-4:]\n",
    "        winarea = authdf[authdf.name4==last4].area #get area value from author info dataframe\n",
    "        absarea = None\n",
    "        hasarea = False\n",
    "        try:\n",
    "            for i in winarea:\n",
    "                absarea = i\n",
    "        except:\n",
    "            continue #go on to next item in loop\n",
    "    \n",
    "        if hasarea and newabsdf.iloc[idx,-1]==None:\n",
    "            #print(absarea)\n",
    "            newabsdf.iloc[idx,-1]=absarea #last column added was \"area\", set the corresponding index to that area\n",
    "    else:\n",
    "        continue"
   ]
  },
  {
   "cell_type": "code",
   "execution_count": 304,
   "metadata": {},
   "outputs": [
    {
     "data": {
      "text/plain": [
       "economics    23\n",
       "physics      22\n",
       "chemistry    20\n",
       "medicine     19\n",
       "Name: area, dtype: int64"
      ]
     },
     "execution_count": 304,
     "metadata": {},
     "output_type": "execute_result"
    }
   ],
   "source": [
    "newabsdf.area.value_counts()"
   ]
  },
  {
   "cell_type": "code",
   "execution_count": null,
   "metadata": {},
   "outputs": [],
   "source": [
    "newabsdf.to_csv(\"csvdata/abstractsinfo.csv\")"
   ]
  },
  {
   "cell_type": "code",
   "execution_count": 60,
   "metadata": {
    "scrolled": true
   },
   "outputs": [
    {
     "name": "stdout",
     "output_type": "stream",
     "text": [
      "<class 'pandas.core.frame.DataFrame'>\n",
      "Int64Index: 84 entries, 0 to 83\n",
      "Data columns (total 27 columns):\n",
      "index              84 non-null int64\n",
      "bib_eprint         60 non-null object\n",
      "bib_cites          84 non-null int64\n",
      "citations_link     84 non-null object\n",
      "url_scholarbib     0 non-null float64\n",
      "url_add_sclib      0 non-null float64\n",
      "bib_abstract       84 non-null object\n",
      "bib_author_list    0 non-null float64\n",
      "bib_venue          0 non-null float64\n",
      "bib_year           84 non-null int64\n",
      "bib_gsrank         0 non-null float64\n",
      "bib_title          84 non-null object\n",
      "bib_url            84 non-null object\n",
      "bib_author         84 non-null object\n",
      "bib_listauthors    84 non-null object\n",
      "bib_journal        70 non-null object\n",
      "bib_volume         74 non-null float64\n",
      "bib_number         70 non-null object\n",
      "bib_publisher      75 non-null object\n",
      "bib_pages          76 non-null object\n",
      "source             84 non-null object\n",
      "id_citations       84 non-null object\n",
      "cites_per_year     84 non-null object\n",
      "fileID             84 non-null object\n",
      "authID             84 non-null object\n",
      "coauthor           84 non-null int64\n",
      "area               84 non-null object\n",
      "dtypes: float64(6), int64(4), object(17)\n",
      "memory usage: 18.4+ KB\n"
     ]
    }
   ],
   "source": [
    "newabsdf = pd.read_csv(\"csvdata/abstractsinfo.csv\", index_col=[0])\n",
    "newabsdf.info()"
   ]
  },
  {
   "cell_type": "markdown",
   "metadata": {},
   "source": [
    "This method of using the last four characters did not work completely well and left some records in `area` empty, so I manually searched for who were coauthors of Nobel Prize winners in my rough draft notebook and then looked up in `sciwindf` in which field they won."
   ]
  },
  {
   "cell_type": "code",
   "execution_count": 302,
   "metadata": {},
   "outputs": [
    {
     "data": {
      "text/html": [
       "<div>\n",
       "<style scoped>\n",
       "    .dataframe tbody tr th:only-of-type {\n",
       "        vertical-align: middle;\n",
       "    }\n",
       "\n",
       "    .dataframe tbody tr th {\n",
       "        vertical-align: top;\n",
       "    }\n",
       "\n",
       "    .dataframe thead th {\n",
       "        text-align: right;\n",
       "    }\n",
       "</style>\n",
       "<table border=\"1\" class=\"dataframe\">\n",
       "  <thead>\n",
       "    <tr style=\"text-align: right;\">\n",
       "      <th></th>\n",
       "      <th>name1</th>\n",
       "      <th>text1</th>\n",
       "      <th>year</th>\n",
       "      <th>field</th>\n",
       "      <th>additional</th>\n",
       "      <th>thor</th>\n",
       "    </tr>\n",
       "  </thead>\n",
       "  <tbody>\n",
       "    <tr>\n",
       "      <th>5</th>\n",
       "      <td>M. Stanley Whittingham</td>\n",
       "      <td>John B. Goodenough, M. Stanley Whittingham and...</td>\n",
       "      <td>2019</td>\n",
       "      <td>chemistry</td>\n",
       "      <td>['a&gt;, &lt;a href=\"https:', 'a&gt; and &lt;a href=\"https...</td>\n",
       "      <td>gham</td>\n",
       "    </tr>\n",
       "  </tbody>\n",
       "</table>\n",
       "</div>"
      ],
      "text/plain": [
       "                    name1                                              text1  \\\n",
       "5  M. Stanley Whittingham  John B. Goodenough, M. Stanley Whittingham and...   \n",
       "\n",
       "   year      field                                         additional  thor  \n",
       "5  2019  chemistry  ['a>, <a href=\"https:', 'a> and <a href=\"https...  gham  "
      ]
     },
     "execution_count": 302,
     "metadata": {},
     "output_type": "execute_result"
    }
   ],
   "source": [
    "#example lookup for gham having alij as a coauthor\n",
    "sciwindf[sciwindf.thor==\"gham\"]"
   ]
  },
  {
   "cell_type": "code",
   "execution_count": 303,
   "metadata": {},
   "outputs": [],
   "source": [
    "#since gham won in chemistry, alij's publications will also be classified as such\n",
    "prefindx = newabsdf[newabsdf.authID==\"1alij\"].index\n",
    "newabsdf.loc[prefindx,\"area\"]=\"chemistry\""
   ]
  },
  {
   "cell_type": "markdown",
   "metadata": {},
   "source": [
    "# Explore\n",
    "With dataframe of records that have abstracts, analyze abstract text for each with `nltk` and get TF-IDF values for each."
   ]
  },
  {
   "cell_type": "code",
   "execution_count": 138,
   "metadata": {},
   "outputs": [],
   "source": [
    "def cleantokens(textstring):\n",
    "    '''\n",
    "    A function to remove punctuation, various other symbol characters, newlines, and English stopwords from textstring.\n",
    "    It returns words or sequences of numbers (and/or letters) from textstring as tokens using nltk.word_tokenize.\n",
    "    \n",
    "    Args\n",
    "        textstring (str) : A string of text, assumed to be in English, with words separated by spaces.\n",
    "    \n",
    "    Returns\n",
    "        cleantokens (list) : lowercase words (including acronyms) from textstring not in stopwords.words(\"english\")\n",
    "    '''\n",
    "    stopwordspunct = stopwords.words(\"english\")\n",
    "    stopwordspunct += list(string.punctuation)\n",
    "    stopwordspunct += [\"…\",\"\\+\",\"''\",\"‘\",\"’\",\"“\",\"”\",\"—\",\"\\*\",\"à\"] #other punctuation that was unaccounted for\n",
    "    for symbol in \"\\+,.?!;-\\\\:\\∼\\~'\\n\\'…‘’“”—\\*\":#replace punctuation with an empty string, including ~ and ∼\n",
    "        textstring = textstring.replace(symbol, '').lower() #put into lowercase\n",
    "    tokenized = word_tokenize(textstring)\n",
    "    #alternately:\n",
    "    cleanedtokens = [word.lower() for word in tokenized if word not in stopwordspunct]\n",
    "    return cleanedtokens"
   ]
  },
  {
   "cell_type": "markdown",
   "metadata": {},
   "source": [
    "The next code blocks get a list of lists of all words in all abstracts."
   ]
  },
  {
   "cell_type": "code",
   "execution_count": 142,
   "metadata": {
    "scrolled": true
   },
   "outputs": [],
   "source": [
    "abstractext = [abstract for abstract in abstractdf.bib_abstract]#each entry in bib_abstract is one string\n",
    "tokenslists = []\n",
    "abstractlist = []\n",
    "for each in abstractext: #a list of Strings\n",
    "    tokens = cleantokens(each) #get tokens\n",
    "    lemmlist = []\n",
    "    for token in tokens:\n",
    "        lemtoken = lemmatizer.lemmatize(token)\n",
    "        lemmlist.append(lemtoken) #lemmatize each token, add as item to list\n",
    "        abstractlist.append(lemtoken) #add to one big list with no distinction between abstracts\n",
    "    tokenslists.append(lemmlist) #each list of lemmatized tokens is an item in the list"
   ]
  },
  {
   "cell_type": "code",
   "execution_count": 21,
   "metadata": {},
   "outputs": [
    {
     "data": {
      "text/plain": [
       "[('cell', 42),\n",
       " ('laser', 38),\n",
       " ('pulse', 33),\n",
       " ('gene', 29),\n",
       " ('field', 25),\n",
       " ('1', 25),\n",
       " ('new', 24),\n",
       " ('also', 24),\n",
       " ('process', 23),\n",
       " ('use', 22)]"
      ]
     },
     "execution_count": 21,
     "metadata": {},
     "output_type": "execute_result"
    }
   ],
   "source": [
    "#freqdist for all words in all abstracts\n",
    "absfreq = FreqDist(abstractlist)\n",
    "absfreq.most_common(10)"
   ]
  },
  {
   "cell_type": "code",
   "execution_count": 140,
   "metadata": {},
   "outputs": [
    {
     "data": {
      "text/plain": [
       "2500"
      ]
     },
     "execution_count": 140,
     "metadata": {},
     "output_type": "execute_result"
    }
   ],
   "source": [
    "len(absfreq)"
   ]
  },
  {
   "cell_type": "markdown",
   "metadata": {},
   "source": [
    "The most common is \"cell\" although there are 2500 unique words, numbers (and likely, names as well) in total for all abstract text.\n",
    "\n",
    "Now, I will get the TF-IDF values for each word for each abstract text."
   ]
  },
  {
   "cell_type": "code",
   "execution_count": 143,
   "metadata": {},
   "outputs": [],
   "source": [
    "#get frequency dictionaries for each list of words\n",
    "freqlist = []\n",
    "for tokenslist in tokenslists:\n",
    "    freqdistr = FreqDist(tokenslist)\n",
    "    freqlist.append(freqdistr)"
   ]
  },
  {
   "cell_type": "markdown",
   "metadata": {},
   "source": [
    "The below are drawn from the TF-IDF lab comparing song lyrics https://github.com/learn-co-curriculum/ds-word-vectorization-lab/ that get term frequency - inverse term frequency."
   ]
  },
  {
   "cell_type": "code",
   "execution_count": 26,
   "metadata": {},
   "outputs": [],
   "source": [
    "#get term frequency:\n",
    "def proportional_freq(freqdict):\n",
    "    '''\n",
    "    If given a frequency dictionary, would return a new dictionary with the same keys and the frequencies relative to the\n",
    "    total sum of the frequencies (total number of times all keys were counted): a key's given value / sum of all values.\n",
    "    \n",
    "    Args\n",
    "        freqdict (dict or similar) : has words as keys and their frequencies in the text as the values\n",
    "        \n",
    "    Returns\n",
    "        propor (dict) : same keys as freqdict, values are freqdict's value divided by the total sum of freqdict's values\n",
    "    '''\n",
    "    totalcount = sum(freqdict.values()) #the total number of words, summing up all the frequency counts\n",
    "    \n",
    "    propor=dict()\n",
    "    \n",
    "    for item, freq in freqdict.items(): #iterate over each item-frequency pair\n",
    "        propor[item] = freq/totalcount\n",
    "    \n",
    "    return propor"
   ]
  },
  {
   "cell_type": "code",
   "execution_count": 27,
   "metadata": {},
   "outputs": [],
   "source": [
    "#find inverse document frequency given a list of frequency dictionaries\n",
    "def calc_inverse_freq(freqdlist):\n",
    "    '''\n",
    "    Takes in a list of frequency dictionaries and finds the inverse document frequency for every key. Returns one dict\n",
    "    containing all of the set of keys across all freqdlist's dictionaries with the inverse document frequency as the values\n",
    "    \n",
    "    Args\n",
    "        freqdlist (list) : list of frequency dictionaries that are part of the same corpus\n",
    "    \n",
    "    Returns\n",
    "        inversedict (dict) : the keys are from the dictionaries in freqdlist's keys and the values are log-transformed\n",
    "                            inverse document frequency (the number of dictionaries / how many dicts the key appears in)\n",
    "    '''\n",
    "    allkeys = set()\n",
    "    invfreqd = dict()\n",
    "    for freqd in freqdlist: #create set of every key across all dictionaries in the list\n",
    "        for key in freqd.keys():\n",
    "            allkeys.add(key)\n",
    "            invfreqd[key]=invfreqd.get(key,0)+1 #if key does not exist already, creates it with value of 1\n",
    "            #frequency dictionary of how many times a word appears in a frequency dictionary\n",
    "    \n",
    "    inversedict=dict()\n",
    "    for word, freq in invfreqd.items():\n",
    "        inversedict[word] = np.log(len(freqdlist)/float(freq)) #the log of this quotient (to divide well, needs float type)\n",
    "        # (so the difference between 10 and 20 is bigger than between 100 and 120)\n",
    "    return inversedict"
   ]
  },
  {
   "cell_type": "code",
   "execution_count": 28,
   "metadata": {},
   "outputs": [],
   "source": [
    "#for term frequency, I used FreqDist object from nltk\n",
    "def termf_invdf(listofdicts):\n",
    "    '''\n",
    "    Finds term frequency-inverse document frequency for every key in each given frequency dictionary in listofdicts and\n",
    "    returns the values in tfidf_dictslist list of dictionaries, each having every key from across listofdicts.\n",
    "    \n",
    "    Args\n",
    "        listofdicts (list) : list of frequency dictionaries\n",
    "    \n",
    "    Returns\n",
    "        tfidf_dictslist (list) : list of dictionaries, each with keys of all of the keys across listofdicts' dictionaries\n",
    "                                and the values are term frequency * inverse document frequency derived from same\n",
    "    '''\n",
    "    idfdict = calc_inverse_freq(listofdicts)\n",
    "    tfidf_dict = {i:0 for i in list(idfdict.keys())} #all the words from all dictionaries in the list\n",
    "    \n",
    "    tfidf_dictslist=[]\n",
    "    \n",
    "    for eachdict in listofdicts:\n",
    "        eachfreq = proportional_freq(eachdict) #gets term frequency\n",
    "        for word in eachfreq.keys():\n",
    "            tfidf_dict[word] = eachfreq[word]*idfdict[word] #multiply proportional frequency by inverse frequency\n",
    "        tfidf_dictslist.append(tfidf_dict) #each dictionary lists every word in the corpus\n",
    "    \n",
    "    return tfidf_dictslist"
   ]
  },
  {
   "cell_type": "markdown",
   "metadata": {},
   "source": [
    "Use frequency distributions FreqDist objects (similar to dictionaries) to get list of dictionaries of TF-IDF values for each abstract."
   ]
  },
  {
   "cell_type": "code",
   "execution_count": 144,
   "metadata": {},
   "outputs": [],
   "source": [
    "tfidflist = termf_invdf(freqlist)"
   ]
  },
  {
   "cell_type": "code",
   "execution_count": 147,
   "metadata": {},
   "outputs": [
    {
     "data": {
      "text/plain": [
       "0.017912151638920338"
      ]
     },
     "execution_count": 147,
     "metadata": {},
     "output_type": "execute_result"
    }
   ],
   "source": [
    "#tfidflist is a list of dictionaries where each dictionary is every word's tfidf value for an abstract\n",
    "tfidflist[1][\"cell\"]"
   ]
  },
  {
   "cell_type": "code",
   "execution_count": 148,
   "metadata": {},
   "outputs": [
    {
     "data": {
      "text/html": [
       "<div>\n",
       "<style scoped>\n",
       "    .dataframe tbody tr th:only-of-type {\n",
       "        vertical-align: middle;\n",
       "    }\n",
       "\n",
       "    .dataframe tbody tr th {\n",
       "        vertical-align: top;\n",
       "    }\n",
       "\n",
       "    .dataframe thead th {\n",
       "        text-align: right;\n",
       "    }\n",
       "</style>\n",
       "<table border=\"1\" class=\"dataframe\">\n",
       "  <thead>\n",
       "    <tr style=\"text-align: right;\">\n",
       "      <th></th>\n",
       "      <th>00001</th>\n",
       "      <th>005</th>\n",
       "      <th>012</th>\n",
       "      <th>019</th>\n",
       "      <th>04</th>\n",
       "      <th>05</th>\n",
       "      <th>075</th>\n",
       "      <th>0982</th>\n",
       "      <th>1</th>\n",
       "      <th>10</th>\n",
       "      <th>...</th>\n",
       "      <th>zero</th>\n",
       "      <th>zerodispersion</th>\n",
       "      <th>zettawatt</th>\n",
       "      <th>zone</th>\n",
       "      <th>zt</th>\n",
       "      <th>µm</th>\n",
       "      <th>å</th>\n",
       "      <th>αhelices</th>\n",
       "      <th>β</th>\n",
       "      <th>μm</th>\n",
       "    </tr>\n",
       "  </thead>\n",
       "  <tbody>\n",
       "    <tr>\n",
       "      <th>0</th>\n",
       "      <td>0.048161</td>\n",
       "      <td>0.049784</td>\n",
       "      <td>0.064443</td>\n",
       "      <td>0.076393</td>\n",
       "      <td>0.075099</td>\n",
       "      <td>0.075099</td>\n",
       "      <td>0.147694</td>\n",
       "      <td>0.045679</td>\n",
       "      <td>0.03237</td>\n",
       "      <td>0.027342</td>\n",
       "      <td>...</td>\n",
       "      <td>0.119752</td>\n",
       "      <td>0.152787</td>\n",
       "      <td>0.043461</td>\n",
       "      <td>0.049784</td>\n",
       "      <td>0.098463</td>\n",
       "      <td>0.094273</td>\n",
       "      <td>0.050929</td>\n",
       "      <td>0.050929</td>\n",
       "      <td>0.203716</td>\n",
       "      <td>0.111073</td>\n",
       "    </tr>\n",
       "    <tr>\n",
       "      <th>1</th>\n",
       "      <td>0.048161</td>\n",
       "      <td>0.049784</td>\n",
       "      <td>0.064443</td>\n",
       "      <td>0.076393</td>\n",
       "      <td>0.075099</td>\n",
       "      <td>0.075099</td>\n",
       "      <td>0.147694</td>\n",
       "      <td>0.045679</td>\n",
       "      <td>0.03237</td>\n",
       "      <td>0.027342</td>\n",
       "      <td>...</td>\n",
       "      <td>0.119752</td>\n",
       "      <td>0.152787</td>\n",
       "      <td>0.043461</td>\n",
       "      <td>0.049784</td>\n",
       "      <td>0.098463</td>\n",
       "      <td>0.094273</td>\n",
       "      <td>0.050929</td>\n",
       "      <td>0.050929</td>\n",
       "      <td>0.203716</td>\n",
       "      <td>0.111073</td>\n",
       "    </tr>\n",
       "  </tbody>\n",
       "</table>\n",
       "<p>2 rows × 2500 columns</p>\n",
       "</div>"
      ],
      "text/plain": [
       "      00001       005       012       019        04        05       075  \\\n",
       "0  0.048161  0.049784  0.064443  0.076393  0.075099  0.075099  0.147694   \n",
       "1  0.048161  0.049784  0.064443  0.076393  0.075099  0.075099  0.147694   \n",
       "\n",
       "       0982        1        10    ...         zero  zerodispersion  zettawatt  \\\n",
       "0  0.045679  0.03237  0.027342    ...     0.119752        0.152787   0.043461   \n",
       "1  0.045679  0.03237  0.027342    ...     0.119752        0.152787   0.043461   \n",
       "\n",
       "       zone        zt        µm         å  αhelices         β        μm  \n",
       "0  0.049784  0.098463  0.094273  0.050929  0.050929  0.203716  0.111073  \n",
       "1  0.049784  0.098463  0.094273  0.050929  0.050929  0.203716  0.111073  \n",
       "\n",
       "[2 rows x 2500 columns]"
      ]
     },
     "execution_count": 148,
     "metadata": {},
     "output_type": "execute_result"
    }
   ],
   "source": [
    "#look at dataframe version\n",
    "tfidframe = pd.DataFrame(tfidflist)\n",
    "tfidframe.head(2)"
   ]
  },
  {
   "cell_type": "markdown",
   "metadata": {},
   "source": [
    "It looks pretty close to expected; each record is for one abstract."
   ]
  },
  {
   "cell_type": "code",
   "execution_count": 32,
   "metadata": {},
   "outputs": [
    {
     "data": {
      "text/plain": [
       "False"
      ]
     },
     "execution_count": 32,
     "metadata": {},
     "output_type": "execute_result"
    }
   ],
   "source": [
    "#interesting note: there are two different strings for micrometers\n",
    "\"µm\"==\"μm\""
   ]
  },
  {
   "cell_type": "code",
   "execution_count": 149,
   "metadata": {},
   "outputs": [
    {
     "name": "stdout",
     "output_type": "stream",
     "text": [
      "<class 'pandas.core.frame.DataFrame'>\n",
      "RangeIndex: 84 entries, 0 to 83\n",
      "Columns: 2500 entries, 00001 to μm\n",
      "dtypes: float64(2500)\n",
      "memory usage: 1.6 MB\n"
     ]
    }
   ],
   "source": [
    "tfidframe.info()"
   ]
  },
  {
   "cell_type": "code",
   "execution_count": 150,
   "metadata": {},
   "outputs": [],
   "source": [
    "#save tfidframe as .CSV\n",
    "tfidframe.to_csv(\"csvdata/tfidfwords.csv\")"
   ]
  },
  {
   "cell_type": "markdown",
   "metadata": {},
   "source": [
    "### Plot TF-IDF values\n",
    "Use t-SNE (t-Stochastic Neighbors Embedding) from sci-kit learn to graph the values."
   ]
  },
  {
   "cell_type": "code",
   "execution_count": 151,
   "metadata": {},
   "outputs": [],
   "source": [
    "#list of lists of values from the tf-idf dictionaries\n",
    "tfidfvalues = []\n",
    "for tfidfdict in tfidflist:\n",
    "    tfidfvalues.append(list(tfidfdict.values())) #convert to list"
   ]
  },
  {
   "cell_type": "code",
   "execution_count": 42,
   "metadata": {},
   "outputs": [],
   "source": [
    "def graphdims(transformed, dims=3):\n",
    "    '''\n",
    "    Transpose a list of lists or similar iterable from one N-length list of dims-length lists -> one list of dims \n",
    "    number of N-length lists.  It's like switching a matrix coordinate from (i, j) to be (j, i) except using a list of lists\n",
    "    \n",
    "    Args\n",
    "        transformed (list or arraylike) : an arraylike of an arraylike of dimension dims x N (dims lists each of size N)\n",
    "        dims (int) : defaults to 3. The desired dimension of the returned list of lists\n",
    "    \n",
    "    Returns\n",
    "        coordlist (list) : a list of lists of dimension N x dims (N lists each of size dims)\n",
    "    '''\n",
    "    coordlist = [[] for i in range(0,dims)] #list of lists\n",
    "    for coord in transformed:\n",
    "        for j in range(0,dims):\n",
    "            coordlist[j].append(coord[j])\n",
    "    return coordlist"
   ]
  },
  {
   "cell_type": "code",
   "execution_count": 152,
   "metadata": {},
   "outputs": [],
   "source": [
    "#reduce to two dimensions to graph on x-y axes\n",
    "dim2TSNE = TSNE(n_components=2) #using sklearn\n",
    "dim2data = dim2TSNE.fit_transform(tfidfvalues)\n",
    "dim2abstr = graphdims(dim2data,2) #kind of transpose list of lists"
   ]
  },
  {
   "cell_type": "code",
   "execution_count": 44,
   "metadata": {},
   "outputs": [
    {
     "name": "stdout",
     "output_type": "stream",
     "text": [
      "(84, 2) 2 84\n"
     ]
    }
   ],
   "source": [
    "#check graphdims changed shape as expected\n",
    "print(dim2data.shape, len(dim2abstr), len(dim2abstr[0])) #the graphdims method worked as expected"
   ]
  },
  {
   "cell_type": "code",
   "execution_count": 153,
   "metadata": {},
   "outputs": [],
   "source": [
    "#add coordinates as columns to newabsdf\n",
    "newabsdf[\"xcoord\"] = dim2abstr[0]\n",
    "newabsdf[\"ycoord\"] = dim2abstr[1]"
   ]
  },
  {
   "cell_type": "code",
   "execution_count": 154,
   "metadata": {},
   "outputs": [],
   "source": [
    "#save with coordinates, with outlier\n",
    "newabsdf.to_csv(\"csvdata/abscoords.csv\")"
   ]
  },
  {
   "cell_type": "markdown",
   "metadata": {},
   "source": [
    "Match individual colors to each `authID` for graph."
   ]
  },
  {
   "cell_type": "code",
   "execution_count": 46,
   "metadata": {},
   "outputs": [],
   "source": [
    "authidlist = abstractdf.authID\n",
    "authidset = set(authidlist)"
   ]
  },
  {
   "cell_type": "code",
   "execution_count": 47,
   "metadata": {},
   "outputs": [
    {
     "data": {
      "text/plain": [
       "26"
      ]
     },
     "execution_count": 47,
     "metadata": {},
     "output_type": "execute_result"
    }
   ],
   "source": [
    "len(authidset)"
   ]
  },
  {
   "cell_type": "code",
   "execution_count": 100,
   "metadata": {},
   "outputs": [],
   "source": [
    "#create list of 26 color names to be for each authID\n",
    "colors = [\"darkgrey\",\"dimgray\",\"brown\",\"red\",\"tomato\",\"sienna\",\n",
    "          \"chocolate\",\"darkorange\",\"tan\",\"gold\",\"darkkhaki\",\"y\",\n",
    "         \"yellowgreen\",\"green\",\"c\",\"royalblue\",\"slateblue\",\"navy\",\n",
    "         \"blue\",\"mediumpurple\",\"violet\",\"fuchsia\",\"deeppink\",\n",
    "         \"lawngreen\",\"cyan\",\"darkgoldenrod\"]"
   ]
  },
  {
   "cell_type": "code",
   "execution_count": 49,
   "metadata": {},
   "outputs": [
    {
     "data": {
      "text/plain": [
       "True"
      ]
     },
     "execution_count": 49,
     "metadata": {},
     "output_type": "execute_result"
    }
   ],
   "source": [
    "len(colors)==len(authidset)"
   ]
  },
  {
   "cell_type": "code",
   "execution_count": 50,
   "metadata": {},
   "outputs": [],
   "source": [
    "#create dictionary for color names\n",
    "colordict = dict()\n",
    "for authid,color in zip(authidset,colors):\n",
    "    colordict[authid]=color"
   ]
  },
  {
   "cell_type": "code",
   "execution_count": 51,
   "metadata": {},
   "outputs": [
    {
     "data": {
      "image/png": "[encoded data removed]",
      "text/plain": [
       "<Figure size 2160x720 with 1 Axes>"
      ]
     },
     "metadata": {
      "needs_background": "light"
     },
     "output_type": "display_data"
    }
   ],
   "source": [
    "#graph with the authID's for the corresponding abstracts\n",
    "fig = plt.figure(figsize=(30,10))\n",
    "ax = fig.add_subplot(222)\n",
    "for xcoord, ycoord, authid in zip(dim2abstr[0], dim2abstr[1], authidlist):\n",
    "    colr = colordict[authid]\n",
    "    ax.scatter(xcoord, ycoord, c=colr, label=authid)\n",
    "ax.legend(ncol=8)\n",
    "plt.show()"
   ]
  },
  {
   "cell_type": "code",
   "execution_count": 91,
   "metadata": {},
   "outputs": [
    {
     "data": {
      "text/html": [
       "<div>\n",
       "<style scoped>\n",
       "    .dataframe tbody tr th:only-of-type {\n",
       "        vertical-align: middle;\n",
       "    }\n",
       "\n",
       "    .dataframe tbody tr th {\n",
       "        vertical-align: top;\n",
       "    }\n",
       "\n",
       "    .dataframe thead th {\n",
       "        text-align: right;\n",
       "    }\n",
       "</style>\n",
       "<table border=\"1\" class=\"dataframe\">\n",
       "  <thead>\n",
       "    <tr style=\"text-align: right;\">\n",
       "      <th></th>\n",
       "      <th>bib_eprint</th>\n",
       "      <th>bib_cites</th>\n",
       "      <th>citations_link</th>\n",
       "      <th>url_scholarbib</th>\n",
       "      <th>url_add_sclib</th>\n",
       "      <th>bib_abstract</th>\n",
       "      <th>bib_author_list</th>\n",
       "      <th>bib_venue</th>\n",
       "      <th>bib_year</th>\n",
       "      <th>bib_gsrank</th>\n",
       "      <th>...</th>\n",
       "      <th>bib_pages</th>\n",
       "      <th>source</th>\n",
       "      <th>id_citations</th>\n",
       "      <th>cites_per_year</th>\n",
       "      <th>fileID</th>\n",
       "      <th>authID</th>\n",
       "      <th>coauthor</th>\n",
       "      <th>area</th>\n",
       "      <th>xcoord</th>\n",
       "      <th>ycoord</th>\n",
       "    </tr>\n",
       "  </thead>\n",
       "  <tbody>\n",
       "    <tr>\n",
       "      <th>44</th>\n",
       "      <td>http://brandonkendhammer.com/themes_in_global_...</td>\n",
       "      <td>3277</td>\n",
       "      <td>/scholar?cites=6324759133315472718</td>\n",
       "      <td>NaN</td>\n",
       "      <td>NaN</td>\n",
       "      <td>Winner of the 2011 Financial Times/Goldman Sac...</td>\n",
       "      <td>NaN</td>\n",
       "      <td>NaN</td>\n",
       "      <td>2011</td>\n",
       "      <td>NaN</td>\n",
       "      <td>...</td>\n",
       "      <td>NaN</td>\n",
       "      <td>citations</td>\n",
       "      <td>yhDMl8AAAAAJ:YsMSGLbcyi4C</td>\n",
       "      <td>{2011: 57, 2012: 210, 2013: 336, 2014: 403, 20...</td>\n",
       "      <td>10uflo1</td>\n",
       "      <td>10uflo</td>\n",
       "      <td>0</td>\n",
       "      <td>economics</td>\n",
       "      <td>-1.991551</td>\n",
       "      <td>-2.12037</td>\n",
       "    </tr>\n",
       "  </tbody>\n",
       "</table>\n",
       "<p>1 rows × 28 columns</p>\n",
       "</div>"
      ],
      "text/plain": [
       "                                           bib_eprint  bib_cites  \\\n",
       "44  http://brandonkendhammer.com/themes_in_global_...       3277   \n",
       "\n",
       "                        citations_link  url_scholarbib  url_add_sclib  \\\n",
       "44  /scholar?cites=6324759133315472718             NaN            NaN   \n",
       "\n",
       "                                         bib_abstract  bib_author_list  \\\n",
       "44  Winner of the 2011 Financial Times/Goldman Sac...              NaN   \n",
       "\n",
       "    bib_venue  bib_year  bib_gsrank   ...    bib_pages     source  \\\n",
       "44        NaN      2011         NaN   ...          NaN  citations   \n",
       "\n",
       "                 id_citations  \\\n",
       "44  yhDMl8AAAAAJ:YsMSGLbcyi4C   \n",
       "\n",
       "                                       cites_per_year   fileID  authID  \\\n",
       "44  {2011: 57, 2012: 210, 2013: 336, 2014: 403, 20...  10uflo1  10uflo   \n",
       "\n",
       "   coauthor       area    xcoord   ycoord  \n",
       "44        0  economics -1.991551 -2.12037  \n",
       "\n",
       "[1 rows x 28 columns]"
      ]
     },
     "execution_count": 91,
     "metadata": {},
     "output_type": "execute_result"
    }
   ],
   "source": [
    "#it looks like there's an outlier\n",
    "newabsdf[newabsdf.ycoord<= -2.0]"
   ]
  },
  {
   "cell_type": "code",
   "execution_count": 99,
   "metadata": {},
   "outputs": [
    {
     "data": {
      "text/html": [
       "<div>\n",
       "<style scoped>\n",
       "    .dataframe tbody tr th:only-of-type {\n",
       "        vertical-align: middle;\n",
       "    }\n",
       "\n",
       "    .dataframe tbody tr th {\n",
       "        vertical-align: top;\n",
       "    }\n",
       "\n",
       "    .dataframe thead th {\n",
       "        text-align: right;\n",
       "    }\n",
       "</style>\n",
       "<table border=\"1\" class=\"dataframe\">\n",
       "  <thead>\n",
       "    <tr style=\"text-align: right;\">\n",
       "      <th></th>\n",
       "      <th>bib_cites</th>\n",
       "      <th>url_scholarbib</th>\n",
       "      <th>url_add_sclib</th>\n",
       "      <th>bib_author_list</th>\n",
       "      <th>bib_venue</th>\n",
       "      <th>bib_year</th>\n",
       "      <th>bib_gsrank</th>\n",
       "      <th>bib_volume</th>\n",
       "      <th>coauthor</th>\n",
       "      <th>xcoord</th>\n",
       "      <th>ycoord</th>\n",
       "    </tr>\n",
       "  </thead>\n",
       "  <tbody>\n",
       "    <tr>\n",
       "      <th>count</th>\n",
       "      <td>84.000000</td>\n",
       "      <td>0.0</td>\n",
       "      <td>0.0</td>\n",
       "      <td>0.0</td>\n",
       "      <td>0.0</td>\n",
       "      <td>84.000000</td>\n",
       "      <td>0.0</td>\n",
       "      <td>74.000000</td>\n",
       "      <td>84.000000</td>\n",
       "      <td>84.000000</td>\n",
       "      <td>84.000000</td>\n",
       "    </tr>\n",
       "    <tr>\n",
       "      <th>mean</th>\n",
       "      <td>2621.285714</td>\n",
       "      <td>NaN</td>\n",
       "      <td>NaN</td>\n",
       "      <td>NaN</td>\n",
       "      <td>NaN</td>\n",
       "      <td>1999.095238</td>\n",
       "      <td>NaN</td>\n",
       "      <td>117.513514</td>\n",
       "      <td>0.476190</td>\n",
       "      <td>-1.990760</td>\n",
       "      <td>-1.018079</td>\n",
       "    </tr>\n",
       "    <tr>\n",
       "      <th>std</th>\n",
       "      <td>2671.687381</td>\n",
       "      <td>NaN</td>\n",
       "      <td>NaN</td>\n",
       "      <td>NaN</td>\n",
       "      <td>NaN</td>\n",
       "      <td>11.264208</td>\n",
       "      <td>NaN</td>\n",
       "      <td>135.836348</td>\n",
       "      <td>0.502432</td>\n",
       "      <td>0.047559</td>\n",
       "      <td>0.128755</td>\n",
       "    </tr>\n",
       "    <tr>\n",
       "      <th>min</th>\n",
       "      <td>115.000000</td>\n",
       "      <td>NaN</td>\n",
       "      <td>NaN</td>\n",
       "      <td>NaN</td>\n",
       "      <td>NaN</td>\n",
       "      <td>1970.000000</td>\n",
       "      <td>NaN</td>\n",
       "      <td>1.000000</td>\n",
       "      <td>0.000000</td>\n",
       "      <td>-2.071116</td>\n",
       "      <td>-2.120370</td>\n",
       "    </tr>\n",
       "    <tr>\n",
       "      <th>25%</th>\n",
       "      <td>816.000000</td>\n",
       "      <td>NaN</td>\n",
       "      <td>NaN</td>\n",
       "      <td>NaN</td>\n",
       "      <td>NaN</td>\n",
       "      <td>1992.000000</td>\n",
       "      <td>NaN</td>\n",
       "      <td>16.000000</td>\n",
       "      <td>0.000000</td>\n",
       "      <td>-2.025946</td>\n",
       "      <td>-1.048383</td>\n",
       "    </tr>\n",
       "    <tr>\n",
       "      <th>50%</th>\n",
       "      <td>1859.500000</td>\n",
       "      <td>NaN</td>\n",
       "      <td>NaN</td>\n",
       "      <td>NaN</td>\n",
       "      <td>NaN</td>\n",
       "      <td>2001.000000</td>\n",
       "      <td>NaN</td>\n",
       "      <td>74.500000</td>\n",
       "      <td>0.000000</td>\n",
       "      <td>-1.998901</td>\n",
       "      <td>-0.992442</td>\n",
       "    </tr>\n",
       "    <tr>\n",
       "      <th>75%</th>\n",
       "      <td>3277.000000</td>\n",
       "      <td>NaN</td>\n",
       "      <td>NaN</td>\n",
       "      <td>NaN</td>\n",
       "      <td>NaN</td>\n",
       "      <td>2007.250000</td>\n",
       "      <td>NaN</td>\n",
       "      <td>122.000000</td>\n",
       "      <td>1.000000</td>\n",
       "      <td>-1.948087</td>\n",
       "      <td>-0.977833</td>\n",
       "    </tr>\n",
       "    <tr>\n",
       "      <th>max</th>\n",
       "      <td>16449.000000</td>\n",
       "      <td>NaN</td>\n",
       "      <td>NaN</td>\n",
       "      <td>NaN</td>\n",
       "      <td>NaN</td>\n",
       "      <td>2016.000000</td>\n",
       "      <td>NaN</td>\n",
       "      <td>489.000000</td>\n",
       "      <td>1.000000</td>\n",
       "      <td>-1.911947</td>\n",
       "      <td>-0.907310</td>\n",
       "    </tr>\n",
       "  </tbody>\n",
       "</table>\n",
       "</div>"
      ],
      "text/plain": [
       "          bib_cites  url_scholarbib  url_add_sclib  bib_author_list  \\\n",
       "count     84.000000             0.0            0.0              0.0   \n",
       "mean    2621.285714             NaN            NaN              NaN   \n",
       "std     2671.687381             NaN            NaN              NaN   \n",
       "min      115.000000             NaN            NaN              NaN   \n",
       "25%      816.000000             NaN            NaN              NaN   \n",
       "50%     1859.500000             NaN            NaN              NaN   \n",
       "75%     3277.000000             NaN            NaN              NaN   \n",
       "max    16449.000000             NaN            NaN              NaN   \n",
       "\n",
       "       bib_venue     bib_year  bib_gsrank  bib_volume   coauthor     xcoord  \\\n",
       "count        0.0    84.000000         0.0   74.000000  84.000000  84.000000   \n",
       "mean         NaN  1999.095238         NaN  117.513514   0.476190  -1.990760   \n",
       "std          NaN    11.264208         NaN  135.836348   0.502432   0.047559   \n",
       "min          NaN  1970.000000         NaN    1.000000   0.000000  -2.071116   \n",
       "25%          NaN  1992.000000         NaN   16.000000   0.000000  -2.025946   \n",
       "50%          NaN  2001.000000         NaN   74.500000   0.000000  -1.998901   \n",
       "75%          NaN  2007.250000         NaN  122.000000   1.000000  -1.948087   \n",
       "max          NaN  2016.000000         NaN  489.000000   1.000000  -1.911947   \n",
       "\n",
       "          ycoord  \n",
       "count  84.000000  \n",
       "mean   -1.018079  \n",
       "std     0.128755  \n",
       "min    -2.120370  \n",
       "25%    -1.048383  \n",
       "50%    -0.992442  \n",
       "75%    -0.977833  \n",
       "max    -0.907310  "
      ]
     },
     "execution_count": 99,
     "metadata": {},
     "output_type": "execute_result"
    }
   ],
   "source": [
    "newabsdf.describe()"
   ]
  },
  {
   "cell_type": "code",
   "execution_count": 92,
   "metadata": {},
   "outputs": [],
   "source": [
    "#without this record, what does it look like?\n",
    "withoutdf = newabsdf.drop([44])#drop the index 44"
   ]
  },
  {
   "cell_type": "code",
   "execution_count": 98,
   "metadata": {},
   "outputs": [
    {
     "data": {
      "text/html": [
       "<div>\n",
       "<style scoped>\n",
       "    .dataframe tbody tr th:only-of-type {\n",
       "        vertical-align: middle;\n",
       "    }\n",
       "\n",
       "    .dataframe tbody tr th {\n",
       "        vertical-align: top;\n",
       "    }\n",
       "\n",
       "    .dataframe thead th {\n",
       "        text-align: right;\n",
       "    }\n",
       "</style>\n",
       "<table border=\"1\" class=\"dataframe\">\n",
       "  <thead>\n",
       "    <tr style=\"text-align: right;\">\n",
       "      <th></th>\n",
       "      <th>bib_cites</th>\n",
       "      <th>url_scholarbib</th>\n",
       "      <th>url_add_sclib</th>\n",
       "      <th>bib_author_list</th>\n",
       "      <th>bib_venue</th>\n",
       "      <th>bib_year</th>\n",
       "      <th>bib_gsrank</th>\n",
       "      <th>bib_volume</th>\n",
       "      <th>coauthor</th>\n",
       "      <th>xcoord</th>\n",
       "      <th>ycoord</th>\n",
       "    </tr>\n",
       "  </thead>\n",
       "  <tbody>\n",
       "    <tr>\n",
       "      <th>count</th>\n",
       "      <td>83.000000</td>\n",
       "      <td>0.0</td>\n",
       "      <td>0.0</td>\n",
       "      <td>0.0</td>\n",
       "      <td>0.0</td>\n",
       "      <td>83.000000</td>\n",
       "      <td>0.0</td>\n",
       "      <td>74.000000</td>\n",
       "      <td>83.000000</td>\n",
       "      <td>83.000000</td>\n",
       "      <td>83.000000</td>\n",
       "    </tr>\n",
       "    <tr>\n",
       "      <th>mean</th>\n",
       "      <td>2613.385542</td>\n",
       "      <td>NaN</td>\n",
       "      <td>NaN</td>\n",
       "      <td>NaN</td>\n",
       "      <td>NaN</td>\n",
       "      <td>1998.951807</td>\n",
       "      <td>NaN</td>\n",
       "      <td>117.513514</td>\n",
       "      <td>0.481928</td>\n",
       "      <td>-1.990751</td>\n",
       "      <td>-1.004799</td>\n",
       "    </tr>\n",
       "    <tr>\n",
       "      <th>std</th>\n",
       "      <td>2686.941492</td>\n",
       "      <td>NaN</td>\n",
       "      <td>NaN</td>\n",
       "      <td>NaN</td>\n",
       "      <td>NaN</td>\n",
       "      <td>11.255247</td>\n",
       "      <td>NaN</td>\n",
       "      <td>135.836348</td>\n",
       "      <td>0.502711</td>\n",
       "      <td>0.047848</td>\n",
       "      <td>0.042237</td>\n",
       "    </tr>\n",
       "    <tr>\n",
       "      <th>min</th>\n",
       "      <td>115.000000</td>\n",
       "      <td>NaN</td>\n",
       "      <td>NaN</td>\n",
       "      <td>NaN</td>\n",
       "      <td>NaN</td>\n",
       "      <td>1970.000000</td>\n",
       "      <td>NaN</td>\n",
       "      <td>1.000000</td>\n",
       "      <td>0.000000</td>\n",
       "      <td>-2.071116</td>\n",
       "      <td>-1.080932</td>\n",
       "    </tr>\n",
       "    <tr>\n",
       "      <th>25%</th>\n",
       "      <td>816.000000</td>\n",
       "      <td>NaN</td>\n",
       "      <td>NaN</td>\n",
       "      <td>NaN</td>\n",
       "      <td>NaN</td>\n",
       "      <td>1992.000000</td>\n",
       "      <td>NaN</td>\n",
       "      <td>16.000000</td>\n",
       "      <td>0.000000</td>\n",
       "      <td>-2.025948</td>\n",
       "      <td>-1.045370</td>\n",
       "    </tr>\n",
       "    <tr>\n",
       "      <th>50%</th>\n",
       "      <td>1854.000000</td>\n",
       "      <td>NaN</td>\n",
       "      <td>NaN</td>\n",
       "      <td>NaN</td>\n",
       "      <td>NaN</td>\n",
       "      <td>2001.000000</td>\n",
       "      <td>NaN</td>\n",
       "      <td>74.500000</td>\n",
       "      <td>0.000000</td>\n",
       "      <td>-1.998901</td>\n",
       "      <td>-0.992440</td>\n",
       "    </tr>\n",
       "    <tr>\n",
       "      <th>75%</th>\n",
       "      <td>3242.000000</td>\n",
       "      <td>NaN</td>\n",
       "      <td>NaN</td>\n",
       "      <td>NaN</td>\n",
       "      <td>NaN</td>\n",
       "      <td>2007.000000</td>\n",
       "      <td>NaN</td>\n",
       "      <td>122.000000</td>\n",
       "      <td>1.000000</td>\n",
       "      <td>-1.948038</td>\n",
       "      <td>-0.977831</td>\n",
       "    </tr>\n",
       "    <tr>\n",
       "      <th>max</th>\n",
       "      <td>16449.000000</td>\n",
       "      <td>NaN</td>\n",
       "      <td>NaN</td>\n",
       "      <td>NaN</td>\n",
       "      <td>NaN</td>\n",
       "      <td>2016.000000</td>\n",
       "      <td>NaN</td>\n",
       "      <td>489.000000</td>\n",
       "      <td>1.000000</td>\n",
       "      <td>-1.911947</td>\n",
       "      <td>-0.907310</td>\n",
       "    </tr>\n",
       "  </tbody>\n",
       "</table>\n",
       "</div>"
      ],
      "text/plain": [
       "          bib_cites  url_scholarbib  url_add_sclib  bib_author_list  \\\n",
       "count     83.000000             0.0            0.0              0.0   \n",
       "mean    2613.385542             NaN            NaN              NaN   \n",
       "std     2686.941492             NaN            NaN              NaN   \n",
       "min      115.000000             NaN            NaN              NaN   \n",
       "25%      816.000000             NaN            NaN              NaN   \n",
       "50%     1854.000000             NaN            NaN              NaN   \n",
       "75%     3242.000000             NaN            NaN              NaN   \n",
       "max    16449.000000             NaN            NaN              NaN   \n",
       "\n",
       "       bib_venue     bib_year  bib_gsrank  bib_volume   coauthor     xcoord  \\\n",
       "count        0.0    83.000000         0.0   74.000000  83.000000  83.000000   \n",
       "mean         NaN  1998.951807         NaN  117.513514   0.481928  -1.990751   \n",
       "std          NaN    11.255247         NaN  135.836348   0.502711   0.047848   \n",
       "min          NaN  1970.000000         NaN    1.000000   0.000000  -2.071116   \n",
       "25%          NaN  1992.000000         NaN   16.000000   0.000000  -2.025948   \n",
       "50%          NaN  2001.000000         NaN   74.500000   0.000000  -1.998901   \n",
       "75%          NaN  2007.000000         NaN  122.000000   1.000000  -1.948038   \n",
       "max          NaN  2016.000000         NaN  489.000000   1.000000  -1.911947   \n",
       "\n",
       "          ycoord  \n",
       "count  83.000000  \n",
       "mean   -1.004799  \n",
       "std     0.042237  \n",
       "min    -1.080932  \n",
       "25%    -1.045370  \n",
       "50%    -0.992440  \n",
       "75%    -0.977831  \n",
       "max    -0.907310  "
      ]
     },
     "execution_count": 98,
     "metadata": {},
     "output_type": "execute_result"
    }
   ],
   "source": [
    "withoutdf.describe()"
   ]
  },
  {
   "cell_type": "code",
   "execution_count": 101,
   "metadata": {},
   "outputs": [],
   "source": [
    "authidset = set(withoutdf.authID)\n",
    "\n",
    "#create dictionary for color names\n",
    "colordict = dict()\n",
    "for authid,color in zip(authidset,colors):\n",
    "    colordict[authid]=color"
   ]
  },
  {
   "cell_type": "code",
   "execution_count": 249,
   "metadata": {},
   "outputs": [
    {
     "data": {
      "image/png": "[encoded data removed]",
      "text/plain": [
       "<Figure size 1440x720 with 1 Axes>"
      ]
     },
     "metadata": {
      "needs_background": "light"
     },
     "output_type": "display_data"
    }
   ],
   "source": [
    "fig = plt.figure(figsize=(20,10))\n",
    "ax = fig.add_subplot(111)\n",
    "for x, y, authid in zip(withoutdf.xcoord, withoutdf.ycoord, withoutdf.authID):\n",
    "    colr = colordict[authid]\n",
    "    ax.scatter(x, y, c=colr, label=authid)\n",
    "ax.legend(ncol=10)\n",
    "\n",
    "pts = 18 #font pt size\n",
    "\n",
    "plt.rc('axes', titlesize=pts, labelsize=pts)     # font size of the axes titles and labels\n",
    "plt.rc('xtick', labelsize=pts-2)    # font size of the tick labels\n",
    "plt.rc('ytick', labelsize=pts-2)    # font size of the tick labels\n",
    "plt.rc('figure', titlesize=30) #title font size, slightly larger than the other text\n",
    "\n",
    "plt.title('Abstract TF-IDF Color-coded by Author')\n",
    "plt.savefig(\"images/dots-by-author.png\")\n",
    "plt.show()"
   ]
  },
  {
   "cell_type": "markdown",
   "metadata": {},
   "source": [
    "Match four colors for Nobel Prize field in order to graph."
   ]
  },
  {
   "cell_type": "code",
   "execution_count": 126,
   "metadata": {},
   "outputs": [],
   "source": [
    "fourcolors = [\"darkgreen\",\"blue\",\"goldenrod\",\"magenta\"]"
   ]
  },
  {
   "cell_type": "code",
   "execution_count": 64,
   "metadata": {},
   "outputs": [],
   "source": [
    "fieldset = [\"physics\",\"chemistry\",\"economics\",\"medicine\"]"
   ]
  },
  {
   "cell_type": "code",
   "execution_count": 114,
   "metadata": {},
   "outputs": [],
   "source": [
    "#sort by area\n",
    "areasort = withoutdf.sort_values(by=[\"area\"])"
   ]
  },
  {
   "cell_type": "code",
   "execution_count": 115,
   "metadata": {},
   "outputs": [],
   "source": [
    "phys = areasort[areasort[\"area\"]==\"physics\"]\n",
    "chem = areasort[areasort[\"area\"]==\"chemistry\"]\n",
    "econ = areasort[areasort[\"area\"]==\"economics\"]\n",
    "medi = areasort[areasort[\"area\"]==\"medicine\"]"
   ]
  },
  {
   "cell_type": "code",
   "execution_count": 117,
   "metadata": {},
   "outputs": [],
   "source": [
    "areadflist = [phys,chem,econ,medi]"
   ]
  },
  {
   "cell_type": "code",
   "execution_count": 247,
   "metadata": {},
   "outputs": [
    {
     "data": {
      "image/png": "[encoded data removed]",
      "text/plain": [
       "<Figure size 1152x576 with 1 Axes>"
      ]
     },
     "metadata": {
      "needs_background": "light"
     },
     "output_type": "display_data"
    }
   ],
   "source": [
    "fig = plt.figure(figsize=(16,8))\n",
    "ax = fig.add_subplot(111)\n",
    "for areadf, colr, field in zip(areadflist,fourcolors,fieldset):\n",
    "    ax.scatter(areadf.xcoord,areadf.ycoord,color=colr,label=field)\n",
    "ax.legend()\n",
    "\n",
    "pts = 18 #font pt size\n",
    "\n",
    "plt.rc('axes', titlesize=pts, labelsize=pts)     # font size of the axes titles and labels\n",
    "plt.rc('xtick', labelsize=pts-2)    # font size of the tick labels\n",
    "plt.rc('ytick', labelsize=pts-2)    # font size of the tick labels\n",
    "plt.rc('figure', titlesize=30) #title font size, slightly larger than the other text\n",
    "\n",
    "plt.title('Abstract TF-IDF Color-coded by Field')\n",
    "plt.savefig(\"images/dots-by-field.png\")\n",
    "plt.show()"
   ]
  },
  {
   "cell_type": "code",
   "execution_count": 245,
   "metadata": {},
   "outputs": [
    {
     "data": {
      "image/png": "[encoded data removed]",
      "text/plain": [
       "<Figure size 1152x576 with 1 Axes>"
      ]
     },
     "metadata": {
      "needs_background": "light"
     },
     "output_type": "display_data"
    }
   ],
   "source": [
    "#see how coauthor column compares\n",
    "winners = withoutdf[withoutdf[\"coauthor\"]==0]\n",
    "coauths = withoutdf[withoutdf[\"coauthor\"]==1]\n",
    "\n",
    "coautcatlist=[winners,coauths]\n",
    "labellist = [\"Winners\",\"Other Authors\"]\n",
    "\n",
    "twocolors = [\"blue\",\"goldenrod\"]\n",
    "\n",
    "fig = plt.figure(figsize=(16,8))\n",
    "ax = fig.add_subplot(111)\n",
    "for df, colr, each in zip(coautcatlist,twocolors,labellist):\n",
    "    ax.scatter(df.xcoord,df.ycoord,color=colr,label=each)\n",
    "ax.legend()\n",
    "\n",
    "pts = 18 #font pt size\n",
    "\n",
    "plt.rc('axes', titlesize=pts, labelsize=pts)     # font size of the axes titles and labels\n",
    "plt.rc('xtick', labelsize=pts-2)    # font size of the tick labels\n",
    "plt.rc('ytick', labelsize=pts-2)    # font size of the tick labels\n",
    "plt.rc('figure', titlesize=30) #title font size, slightly larger than the other text\n",
    "\n",
    "plt.title('Abstract TF-IDF Color-coded by Nobel Prize Winner')\n",
    "plt.savefig(\"images/dots-by-winner.png\")\n",
    "\n",
    "plt.show()"
   ]
  },
  {
   "cell_type": "markdown",
   "metadata": {},
   "source": [
    "So, there most noticeably appears to be a few clusters, one in particular is made up of non-winners' publications text near the lower center of the plot.  In other graphs, the dots are different colors in this cluster, indicating that they are not by the same author, nor are they in the same field."
   ]
  },
  {
   "cell_type": "markdown",
   "metadata": {},
   "source": [
    "## Model\n",
    "Using keras to determine a model of 7 clusters using TF-IDF values as X, predict for each y: `area` and `coauthor`."
   ]
  },
  {
   "cell_type": "code",
   "execution_count": 132,
   "metadata": {},
   "outputs": [],
   "source": [
    "#get dummies to create two targets: coauthor and field\n",
    "ycoa = pd.get_dummies(newabsdf[\"coauthor\"]).values\n",
    "yarea = pd.get_dummies(newabsdf[\"area\"]).values"
   ]
  },
  {
   "cell_type": "code",
   "execution_count": 133,
   "metadata": {},
   "outputs": [
    {
     "data": {
      "text/plain": [
       "(84, 2500)"
      ]
     },
     "execution_count": 133,
     "metadata": {},
     "output_type": "execute_result"
    }
   ],
   "source": [
    "tfidframe.shape"
   ]
  },
  {
   "cell_type": "code",
   "execution_count": 182,
   "metadata": {
    "collapsed": true
   },
   "outputs": [
    {
     "ename": "AttributeError",
     "evalue": "'list' object has no attribute 'shape'",
     "output_type": "error",
     "traceback": [
      "\u001b[1;31m---------------------------------------------------------------------------\u001b[0m",
      "\u001b[1;31mAttributeError\u001b[0m                            Traceback (most recent call last)",
      "\u001b[1;32m<ipython-input-182-7b87f8f0229f>\u001b[0m in \u001b[0;36m<module>\u001b[1;34m()\u001b[0m\n\u001b[0;32m      1\u001b[0m \u001b[0mX\u001b[0m \u001b[1;33m=\u001b[0m \u001b[1;33m[\u001b[0m\u001b[0mrow\u001b[0m \u001b[1;32mfor\u001b[0m \u001b[0mrow\u001b[0m \u001b[1;32min\u001b[0m \u001b[0mtfidframe\u001b[0m\u001b[1;33m.\u001b[0m\u001b[0mvalues\u001b[0m\u001b[1;33m]\u001b[0m \u001b[1;31m#list of rows (numpy arrays)\u001b[0m\u001b[1;33m\u001b[0m\u001b[0m\n\u001b[1;32m----> 2\u001b[1;33m \u001b[0mX\u001b[0m\u001b[1;33m.\u001b[0m\u001b[0mshape\u001b[0m\u001b[1;33m\u001b[0m\u001b[0m\n\u001b[0m",
      "\u001b[1;31mAttributeError\u001b[0m: 'list' object has no attribute 'shape'"
     ]
    }
   ],
   "source": [
    "X = [row for row in tfidframe.values] #list of rows (numpy arrays)"
   ]
  },
  {
   "cell_type": "code",
   "execution_count": 189,
   "metadata": {},
   "outputs": [
    {
     "data": {
      "text/plain": [
       "numpy.float64"
      ]
     },
     "execution_count": 189,
     "metadata": {},
     "output_type": "execute_result"
    }
   ],
   "source": [
    "X = np.array(X) #Sequential seemed to prefer numpy arrays to lists\n",
    "type(X[0][0])"
   ]
  },
  {
   "cell_type": "markdown",
   "metadata": {},
   "source": [
    "### Model for `coauthor` as Target"
   ]
  },
  {
   "cell_type": "code",
   "execution_count": 190,
   "metadata": {},
   "outputs": [],
   "source": [
    "#train test split\n",
    "X_train, X_test, yc_train, yc_test = train_test_split(X, ycoa, test_size=0.33, random_state=321)"
   ]
  },
  {
   "cell_type": "code",
   "execution_count": 229,
   "metadata": {},
   "outputs": [],
   "source": [
    "modelc = Sequential()\n",
    "embedsize = 32 #there are 84 records\n",
    "numwords = tfidframe.shape[1] #and 2500 tokens"
   ]
  },
  {
   "cell_type": "code",
   "execution_count": 230,
   "metadata": {},
   "outputs": [],
   "source": [
    "modelc.add(Embedding(numwords, embedsize))\n",
    "modelc.add(LSTM(10, return_sequences=True))\n",
    "modelc.add(GlobalMaxPool1D())\n",
    "modelc.add(Dropout(0.5))\n",
    "modelc.add(Dense(20, activation='relu'))\n",
    "modelc.add(Dropout(0.5))\n",
    "modelc.add(Dense(2, activation='softmax')) #coauthor has two possibilities"
   ]
  },
  {
   "cell_type": "code",
   "execution_count": 231,
   "metadata": {},
   "outputs": [],
   "source": [
    "modelc.compile(loss=\"categorical_crossentropy\",optimizer=\"SGD\",metrics=[\"accuracy\"])"
   ]
  },
  {
   "cell_type": "code",
   "execution_count": 232,
   "metadata": {},
   "outputs": [
    {
     "name": "stdout",
     "output_type": "stream",
     "text": [
      "Epoch 1/8\n",
      "4/4 [==============================] - 9s 2s/step - loss: 0.6955 - accuracy: 0.4107\n",
      "Epoch 2/8\n",
      "4/4 [==============================] - 9s 2s/step - loss: 0.6921 - accuracy: 0.5893\n",
      "Epoch 3/8\n",
      "4/4 [==============================] - 9s 2s/step - loss: 0.6939 - accuracy: 0.5000\n",
      "Epoch 4/8\n",
      "4/4 [==============================] - 9s 2s/step - loss: 0.6933 - accuracy: 0.5357\n",
      "Epoch 5/8\n",
      "4/4 [==============================] - 9s 2s/step - loss: 0.6915 - accuracy: 0.5357\n",
      "Epoch 6/8\n",
      "4/4 [==============================] - 9s 2s/step - loss: 0.6924 - accuracy: 0.5536\n",
      "Epoch 7/8\n",
      "4/4 [==============================] - 9s 2s/step - loss: 0.6907 - accuracy: 0.5714\n",
      "Epoch 8/8\n",
      "4/4 [==============================] - 9s 2s/step - loss: 0.6893 - accuracy: 0.5714\n"
     ]
    },
    {
     "data": {
      "text/plain": [
       "<tensorflow.python.keras.callbacks.History at 0xa3056e1a90>"
      ]
     },
     "execution_count": 232,
     "metadata": {},
     "output_type": "execute_result"
    }
   ],
   "source": [
    "modelc.fit(X_train, yc_train,epochs=8,batch_size=15)"
   ]
  },
  {
   "cell_type": "markdown",
   "metadata": {},
   "source": [
    "There was little difference between the last two epochs; both had accuracies of 0.5714."
   ]
  },
  {
   "cell_type": "code",
   "execution_count": 233,
   "metadata": {},
   "outputs": [],
   "source": [
    "yc_preds = modelc.predict(X_test)"
   ]
  },
  {
   "cell_type": "code",
   "execution_count": 234,
   "metadata": {},
   "outputs": [
    {
     "name": "stdout",
     "output_type": "stream",
     "text": [
      "2/2 [==============================] - 0s 225ms/step - loss: 0.6893 - accuracy: 0.5714\n",
      "1/1 [==============================] - 0s 2ms/step - loss: 0.6979 - accuracy: 0.4286\n"
     ]
    }
   ],
   "source": [
    "traincresults = modelc.evaluate(X_train, yc_train)\n",
    "testcresults = modelc.evaluate(X_test, yc_test)"
   ]
  },
  {
   "cell_type": "markdown",
   "metadata": {},
   "source": [
    "The accuracy on the test set is about 43%.  The loss is lower than 1, but still rather high and improved minimally from the first epoch. "
   ]
  },
  {
   "cell_type": "markdown",
   "metadata": {},
   "source": [
    "### Model for `area` as the target"
   ]
  },
  {
   "cell_type": "code",
   "execution_count": 210,
   "metadata": {},
   "outputs": [],
   "source": [
    "#train test split\n",
    "X_train, X_test, ya_train, ya_test = train_test_split(X, yarea, test_size=0.33, random_state=321)"
   ]
  },
  {
   "cell_type": "code",
   "execution_count": 227,
   "metadata": {},
   "outputs": [],
   "source": [
    "modela = Sequential()\n",
    "embedsize = 32 #there are 84 records\n",
    "numwords = tfidframe.shape[1] #and 2500 tokens"
   ]
  },
  {
   "cell_type": "code",
   "execution_count": 228,
   "metadata": {},
   "outputs": [],
   "source": [
    "modela.add(Embedding(numwords, embedsize))\n",
    "modela.add(LSTM(10, return_sequences=True))\n",
    "modela.add(GlobalMaxPool1D())\n",
    "modela.add(Dropout(0.5))\n",
    "modela.add(Dense(20, activation='relu'))\n",
    "modela.add(Dropout(0.5))\n",
    "modela.add(Dense(4, activation='softmax')) #area has 4 possibilities"
   ]
  },
  {
   "cell_type": "code",
   "execution_count": 208,
   "metadata": {},
   "outputs": [],
   "source": [
    "modela.compile(loss=\"categorical_crossentropy\",optimizer=\"SGD\",metrics=[\"accuracy\"])"
   ]
  },
  {
   "cell_type": "code",
   "execution_count": 211,
   "metadata": {},
   "outputs": [
    {
     "name": "stdout",
     "output_type": "stream",
     "text": [
      "Epoch 1/8\n",
      "4/4 [==============================] - 1s 330ms/step - loss: 1.3813 - accuracy: 0.3036\n",
      "Epoch 2/8\n",
      "4/4 [==============================] - 1s 330ms/step - loss: 1.3828 - accuracy: 0.3214\n",
      "Epoch 3/8\n",
      "4/4 [==============================] - 1s 328ms/step - loss: 1.3790 - accuracy: 0.3214\n",
      "Epoch 4/8\n",
      "4/4 [==============================] - 1s 320ms/step - loss: 1.3787 - accuracy: 0.3214\n",
      "Epoch 5/8\n",
      "4/4 [==============================] - 1s 316ms/step - loss: 1.3795 - accuracy: 0.3214\n",
      "Epoch 6/8\n",
      "4/4 [==============================] - 1s 311ms/step - loss: 1.3751 - accuracy: 0.3214\n",
      "Epoch 7/8\n",
      "4/4 [==============================] - 1s 308ms/step - loss: 1.3779 - accuracy: 0.3214\n",
      "Epoch 8/8\n",
      "4/4 [==============================] - 1s 308ms/step - loss: 1.3775 - accuracy: 0.3214\n"
     ]
    },
    {
     "data": {
      "text/plain": [
       "<tensorflow.python.keras.callbacks.History at 0xa37adc43c8>"
      ]
     },
     "execution_count": 211,
     "metadata": {},
     "output_type": "execute_result"
    }
   ],
   "source": [
    "modela.fit(X_train, ya_train,epochs=8,batch_size=15)"
   ]
  },
  {
   "cell_type": "markdown",
   "metadata": {},
   "source": [
    "The accuracy did not improve much over the epochs, perhaps echoing the earlier plot where TF-IDF values did not seem to have clusters around areas/fields."
   ]
  },
  {
   "cell_type": "code",
   "execution_count": 214,
   "metadata": {},
   "outputs": [],
   "source": [
    "ya_preds = modela.predict(X_test)"
   ]
  },
  {
   "cell_type": "code",
   "execution_count": 215,
   "metadata": {},
   "outputs": [
    {
     "name": "stdout",
     "output_type": "stream",
     "text": [
      "2/2 [==============================] - 0s 230ms/step - loss: 1.3759 - accuracy: 0.3214\n",
      "1/1 [==============================] - 0s 2ms/step - loss: 1.4021 - accuracy: 0.1786\n"
     ]
    }
   ],
   "source": [
    "trainaresults = modela.evaluate(X_train, ya_train)\n",
    "testaresults = modela.evaluate(X_test, ya_test)"
   ]
  },
  {
   "cell_type": "markdown",
   "metadata": {},
   "source": [
    "The accuracy is 18% for the test data and 32% for the training data, both with loss values near 1.4."
   ]
  },
  {
   "cell_type": "markdown",
   "metadata": {},
   "source": [
    "### T-test for significance for `coauthor` feature"
   ]
  },
  {
   "cell_type": "markdown",
   "metadata": {},
   "source": [
    "I'd like to see whether there is a significant difference between TF-IDF values for abstract text by a Nobel winner (0) or a coauthor (1).  As a hypothesis test:\n",
    "\n",
    "$H_0$ : The mean difference between the TF-IDF values for coauthors and non-coauthors is zero. Rephrased, $\\mu_{nobel} = \\mu_{coauthor}$\n",
    "\n",
    "$H_1$ : The mean difference between the TF-IDF values for coauthors and non-coauthors is nonzero. Rephrased, $\\mu_{nobel} \\ne \\mu_{coauthor}$\n",
    "\n",
    "To prove the alternative hypothesis, I can use a two-tailed less-than test.\n",
    "\n",
    "With the $p$ and $t$ values from a two-tailed test (returned by `ttest_ind`), I can reject the null hypothesis when $p < \\alpha$ ($p$ being significant for an $\\alpha$ of 0.05) and $t > 0$."
   ]
  },
  {
   "cell_type": "code",
   "execution_count": 216,
   "metadata": {
    "collapsed": true
   },
   "outputs": [
    {
     "name": "stdout",
     "output_type": "stream",
     "text": [
      "<class 'pandas.core.frame.DataFrame'>\n",
      "Int64Index: 84 entries, 0 to 83\n",
      "Data columns (total 29 columns):\n",
      "bib_eprint         60 non-null object\n",
      "bib_cites          84 non-null int64\n",
      "citations_link     84 non-null object\n",
      "url_scholarbib     0 non-null float64\n",
      "url_add_sclib      0 non-null float64\n",
      "bib_abstract       84 non-null object\n",
      "bib_author_list    0 non-null float64\n",
      "bib_venue          0 non-null float64\n",
      "bib_year           84 non-null int64\n",
      "bib_gsrank         0 non-null float64\n",
      "bib_title          84 non-null object\n",
      "bib_url            84 non-null object\n",
      "bib_author         84 non-null object\n",
      "bib_listauthors    84 non-null object\n",
      "bib_journal        70 non-null object\n",
      "bib_volume         74 non-null float64\n",
      "bib_number         70 non-null object\n",
      "bib_publisher      75 non-null object\n",
      "bib_pages          76 non-null object\n",
      "source             84 non-null object\n",
      "id_citations       84 non-null object\n",
      "cites_per_year     84 non-null object\n",
      "fileID             84 non-null object\n",
      "authID             84 non-null object\n",
      "coauthor           84 non-null int64\n",
      "area               84 non-null object\n",
      "xcoord             84 non-null float64\n",
      "ycoord             84 non-null float64\n",
      "tfidf_avg          84 non-null float64\n",
      "dtypes: float64(9), int64(3), object(17)\n",
      "memory usage: 22.2+ KB\n"
     ]
    }
   ],
   "source": [
    "newabsdf[\"tfidf_avg\"] = [np.mean(i) for i in tfidframe.values] #average each row"
   ]
  },
  {
   "cell_type": "code",
   "execution_count": 218,
   "metadata": {},
   "outputs": [],
   "source": [
    "coauth1tfidf = [tival for tival in newabsdf[newabsdf[\"coauthor\"]==1].tfidf_avg]\n",
    "coauth0tfidf = [tival for tival in newabsdf[newabsdf[\"coauthor\"]==0].tfidf_avg]"
   ]
  },
  {
   "cell_type": "code",
   "execution_count": 224,
   "metadata": {},
   "outputs": [],
   "source": [
    "ttestresults = stats.ttest_ind(coauth1tfidf,coauth0tfidf)"
   ]
  },
  {
   "cell_type": "code",
   "execution_count": 225,
   "metadata": {},
   "outputs": [
    {
     "data": {
      "text/plain": [
       "Ttest_indResult(statistic=6.248809410409238, pvalue=1.7550410064740402e-08)"
      ]
     },
     "execution_count": 225,
     "metadata": {},
     "output_type": "execute_result"
    }
   ],
   "source": [
    "ttestresults"
   ]
  },
  {
   "cell_type": "markdown",
   "metadata": {},
   "source": [
    "The p-value is smaller than 0.05, so the null hypothesis is rejected and there is a significant difference between abstracts from Nobel Prize winners and those from their collaborators."
   ]
  },
  {
   "cell_type": "markdown",
   "metadata": {},
   "source": [
    "## Interpret\n",
    "Ultimately, the results rely too little data, which is an eternal problem in data science. The model has a relatively high loss values and accuracy metrics that barely improve over the last few epochs of the Sequential Model from `keras`.  However, the t-test comparing TF-IDF values for co-authors and those for Nobel Prize winners found significance.\n",
    "\n",
    "Comparing the TF-IDF for abstract text gives closeness based on the words' importances to the abstract (uniqueness).  With many abstracts containing specialized jargon from different disciplines, it was surprising that when graphing the values, the abstracts were not clustered by field.  However, there was some clustering that appeared to be explained by `coauthor`."
   ]
  }
 ],
 "metadata": {
  "kernelspec": {
   "display_name": "Python 3",
   "language": "python",
   "name": "python3"
  },
  "language_info": {
   "codemirror_mode": {
    "name": "ipython",
    "version": 3
   },
   "file_extension": ".py",
   "mimetype": "text/x-python",
   "name": "python",
   "nbconvert_exporter": "python",
   "pygments_lexer": "ipython3",
   "version": "3.6.6"
  }
 },
 "nbformat": 4,
 "nbformat_minor": 2
}
